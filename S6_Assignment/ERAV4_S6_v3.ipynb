{
  "cells": [
    {
      "cell_type": "markdown",
      "metadata": {
        "id": "aO-7t1Y7-hV4"
      },
      "source": [
        "# Import Libraries"
      ]
    },
    {
      "cell_type": "code",
      "execution_count": 2,
      "metadata": {
        "id": "8kH16rnZ7wt_"
      },
      "outputs": [],
      "source": [
        "from __future__ import print_function\n",
        "import torch\n",
        "import torch.nn as nn\n",
        "import torch.nn.functional as F\n",
        "import torch.optim as optim\n",
        "from torchvision import datasets, transforms"
      ]
    },
    {
      "cell_type": "code",
      "execution_count": 11,
      "metadata": {},
      "outputs": [],
      "source": [
        "import torch\n",
        "import torch.nn as nn\n",
        "import torch.nn.functional as F\n",
        "from collections import OrderedDict\n",
        "import numpy as np\n",
        "\n",
        "def summary_with_rf(model, input_size, batch_size=-1, device=\"cuda\", dtypes=None, debug=False):\n",
        "    \"\"\"\n",
        "    Enhanced torchsummary that calculates and displays receptive fields\n",
        "    \n",
        "    Args:\n",
        "        model: PyTorch model\n",
        "        input_size: Input tensor size (C, H, W) or tuple of sizes for multiple inputs\n",
        "        batch_size: Batch size for summary (default: -1)\n",
        "        device: Device to run model on (default: \"cuda\")\n",
        "        dtypes: Data types for inputs (default: None, uses torch.FloatTensor)\n",
        "        debug: If True, prints detailed RF calculations (Nin, Nout, k, s, p, Jin, Jout, Rin, Rout)\n",
        "        \n",
        "    Returns:\n",
        "        None (prints summary table)\n",
        "    \"\"\"\n",
        "    \n",
        "    def register_hook(module):\n",
        "        def hook(module, input, output):\n",
        "            class_name = str(module.__class__).split(\".\")[-1].split(\"'\")[0]\n",
        "            module_idx = len(summary)\n",
        "            \n",
        "            m_key = \"%s-%i\" % (class_name, module_idx + 1)\n",
        "            summary[m_key] = OrderedDict()\n",
        "            summary[m_key][\"input_shape\"] = list(input[0].size())\n",
        "            summary[m_key][\"input_shape\"][0] = batch_size\n",
        "            \n",
        "            if isinstance(output, (list, tuple)):\n",
        "                summary[m_key][\"output_shape\"] = [\n",
        "                    [-1] + list(o.size())[1:] for o in output\n",
        "                ]\n",
        "            else:\n",
        "                summary[m_key][\"output_shape\"] = list(output.size())\n",
        "                summary[m_key][\"output_shape\"][0] = batch_size\n",
        "                \n",
        "            params = 0\n",
        "            if hasattr(module, \"weight\") and hasattr(module.weight, \"size\"):\n",
        "                params += torch.prod(torch.LongTensor(list(module.weight.size())))\n",
        "                summary[m_key][\"trainable\"] = module.weight.requires_grad\n",
        "            if hasattr(module, \"bias\") and hasattr(module.bias, \"size\"):\n",
        "                params += torch.prod(torch.LongTensor(list(module.bias.size())))\n",
        "            summary[m_key][\"nb_params\"] = params\n",
        "            \n",
        "            # Calculate receptive field\n",
        "            rf_info = calculate_rf_for_layer(module, m_key)\n",
        "            summary[m_key][\"receptive_field\"] = rf_info\n",
        "\n",
        "        if (\n",
        "            not isinstance(module, nn.Sequential)\n",
        "            and not isinstance(module, nn.ModuleList)\n",
        "            and not (module == model)\n",
        "        ):\n",
        "            hooks.append(module.register_forward_hook(hook))\n",
        "\n",
        "    # Initialize RF tracking\n",
        "    current_rf = 1\n",
        "    current_jump = 1\n",
        "    current_size = input_size[1] if isinstance(input_size, (tuple, list)) and len(input_size) > 1 else input_size[0] if isinstance(input_size, (tuple, list)) else 28\n",
        "    original_input_size = current_size  # Keep track of original input size\n",
        "\n",
        "    def calculate_rf_for_layer(module, layer_name):\n",
        "        nonlocal current_rf, current_jump, current_size\n",
        "        \n",
        "        if isinstance(module, nn.Conv2d):\n",
        "            kernel_size = module.kernel_size[0] if isinstance(module.kernel_size, tuple) else module.kernel_size\n",
        "            stride = module.stride[0] if isinstance(module.stride, tuple) else module.stride\n",
        "            padding = module.padding[0] if isinstance(module.padding, tuple) else module.padding\n",
        "            \n",
        "            # Store old values for debug\n",
        "            old_size = current_size\n",
        "            old_rf = current_rf\n",
        "            old_jump = current_jump\n",
        "            \n",
        "            # Calculate output size: Nout = 1 + (Nin + 2*p - k)/s\n",
        "            new_size = 1 + (current_size + 2 * padding - kernel_size) // stride\n",
        "            \n",
        "            # Calculate new RF: RFout = RFin + (k-1) * Jin\n",
        "            new_rf = current_rf + (kernel_size - 1) * current_jump\n",
        "            \n",
        "            # Calculate new Jump: Jout = s * Jin\n",
        "            new_jump = stride * current_jump\n",
        "            \n",
        "            if debug:\n",
        "                print(f\"\\n[DEBUG] {layer_name} (Conv2d):\")\n",
        "                print(f\"  Nin={old_size}, Nout={new_size}, k={kernel_size}, s={stride}, p={padding}\")\n",
        "                print(f\"  Jin={old_jump}, Jout={new_jump}\")\n",
        "                print(f\"  Rin={old_rf}, Rout={new_rf}\")\n",
        "                print(f\"  Formula: Nout = 1 + ({old_size} + 2*{padding} - {kernel_size})/{stride} = {new_size}\")\n",
        "                print(f\"  Formula: Rout = {old_rf} + ({kernel_size}-1)*{old_jump} = {new_rf}\")\n",
        "                print(f\"  Formula: Jout = {stride}*{old_jump} = {new_jump}\")\n",
        "            \n",
        "            current_size = new_size\n",
        "            current_rf = new_rf\n",
        "            current_jump = new_jump\n",
        "            \n",
        "            return new_rf\n",
        "            \n",
        "        elif isinstance(module, nn.MaxPool2d):\n",
        "            kernel_size = module.kernel_size\n",
        "            stride = module.stride if module.stride is not None else kernel_size\n",
        "            padding = module.padding\n",
        "            \n",
        "            # Store old values for debug\n",
        "            old_size = current_size\n",
        "            old_rf = current_rf\n",
        "            old_jump = current_jump\n",
        "            \n",
        "            # Calculate output size: Nout = 1 + (Nin + 2*p - k)/s\n",
        "            new_size = 1 + (current_size + 2 * padding - kernel_size) // stride\n",
        "            \n",
        "            # Calculate new RF: RFout = RFin + (k-1) * Jin\n",
        "            new_rf = current_rf + (kernel_size - 1) * current_jump\n",
        "            \n",
        "            # Calculate new Jump: Jout = s * Jin\n",
        "            new_jump = stride * current_jump\n",
        "            \n",
        "            if debug:\n",
        "                print(f\"\\n[DEBUG] {layer_name} (MaxPool2d):\")\n",
        "                print(f\"  Nin={old_size}, Nout={new_size}, k={kernel_size}, s={stride}, p={padding}\")\n",
        "                print(f\"  Jin={old_jump}, Jout={new_jump}\")\n",
        "                print(f\"  Rin={old_rf}, Rout={new_rf}\")\n",
        "                print(f\"  Formula: Nout = 1 + ({old_size} + 2*{padding} - {kernel_size})/{stride} = {new_size}\")\n",
        "                print(f\"  Formula: Rout = {old_rf} + ({kernel_size}-1)*{old_jump} = {new_rf}\")\n",
        "                print(f\"  Formula: Jout = {stride}*{old_jump} = {new_jump}\")\n",
        "            \n",
        "            current_size = new_size\n",
        "            current_rf = new_rf\n",
        "            current_jump = new_jump\n",
        "            \n",
        "            return new_rf\n",
        "            \n",
        "        elif isinstance(module, nn.AdaptiveAvgPool2d):\n",
        "            # FIXED: Properly handle AdaptiveAvgPool2d\n",
        "            output_size = module.output_size\n",
        "            \n",
        "            # Store old values for debug\n",
        "            old_size = current_size\n",
        "            old_rf = current_rf\n",
        "            old_jump = current_jump\n",
        "            \n",
        "            # Check if it's global pooling (output size is 1x1)\n",
        "            if (isinstance(output_size, int) and output_size == 1) or \\\n",
        "               (isinstance(output_size, (tuple, list)) and output_size[0] == 1 and output_size[1] == 1):\n",
        "                # Global Average Pooling - kernel size equals current spatial dimension\n",
        "                # Calculate RF properly using the formula: RFout = RFin + (k-1) * Jin\n",
        "                # For GAP, kernel_size = current_size\n",
        "                new_rf = current_rf + (current_size - 1) * current_jump\n",
        "                \n",
        "                # Display string shows it's global pooling with the actual feature map size\n",
        "                display_rf = f\"GLOBAL({current_size}x{current_size})\"\n",
        "                \n",
        "                if debug:\n",
        "                    print(f\"\\n[DEBUG] {layer_name} (AdaptiveAvgPool2d - Global):\")\n",
        "                    print(f\"  Nin={old_size}, Nout=1, k={old_size} (adaptive), s={old_size}, p=0\")\n",
        "                    print(f\"  Jin={old_jump}, Jout=1 (global pooling)\")\n",
        "                    print(f\"  Rin={old_rf}, Rout={new_rf}\")\n",
        "                    print(f\"  Formula: Rout = {old_rf} + ({old_size}-1)*{old_jump} = {new_rf}\")\n",
        "                    print(f\"  Note: Global Average Pooling - each output sees entire {old_size}x{old_size} feature map\")\n",
        "                    if new_rf >= original_input_size:\n",
        "                        print(f\"  RF exceeds input size ({new_rf} >= {original_input_size}) - complete coverage of {original_input_size}x{original_input_size} input\")\n",
        "                \n",
        "                current_size = 1\n",
        "                current_rf = new_rf  # Use the correctly calculated RF\n",
        "                current_jump = 1  # Jump becomes 1 after global pooling\n",
        "                \n",
        "                # Return display string for table, but internally track the actual RF value\n",
        "                return display_rf\n",
        "            else:\n",
        "                # For other adaptive pool sizes, calculate approximate RF\n",
        "                # This is a simplification - actual RF depends on input/output ratio\n",
        "                if isinstance(output_size, int):\n",
        "                    out_h = out_w = output_size\n",
        "                else:\n",
        "                    out_h, out_w = output_size\n",
        "                \n",
        "                # Approximate kernel size based on input/output ratio\n",
        "                approx_kernel_h = current_size // out_h\n",
        "                approx_kernel_w = current_size // out_w\n",
        "                approx_kernel = max(approx_kernel_h, approx_kernel_w)\n",
        "                \n",
        "                # Update RF based on approximate kernel\n",
        "                new_rf = current_rf + (approx_kernel - 1) * current_jump\n",
        "                \n",
        "                if debug:\n",
        "                    print(f\"\\n[DEBUG] {layer_name} (AdaptiveAvgPool2d):\")\n",
        "                    print(f\"  Nin={old_size}, Nout={out_h}, k≈{approx_kernel} (adaptive), s≈{approx_kernel}, p=0\")\n",
        "                    print(f\"  Jin={old_jump}, Jout={old_jump}\")\n",
        "                    print(f\"  Rin={old_rf}, Rout={new_rf}\")\n",
        "                    print(f\"  Note: Non-global adaptive pooling to {out_h}x{out_w}\")\n",
        "                \n",
        "                current_size = out_h  # Assuming square output\n",
        "                current_rf = new_rf\n",
        "                \n",
        "                return new_rf\n",
        "                \n",
        "        elif isinstance(module, (nn.BatchNorm2d, nn.Dropout, nn.ReLU)):\n",
        "            # These layers don't change receptive field\n",
        "            if debug:\n",
        "                print(f\"\\n[DEBUG] {layer_name} ({module.__class__.__name__}):\")\n",
        "                print(f\"  No change in RF: Nin={current_size}, Nout={current_size}\")\n",
        "                print(f\"  Jin={current_jump}, Jout={current_jump}\")\n",
        "                print(f\"  Rin={current_rf}, Rout={current_rf}\")\n",
        "            return current_rf\n",
        "            \n",
        "        elif isinstance(module, nn.Linear):\n",
        "            # Linear layers typically come after flattening, RF stays the same\n",
        "            if debug:\n",
        "                print(f\"\\n[DEBUG] {layer_name} (Linear):\")\n",
        "                print(f\"  After flattening - RF stays at {current_rf}\")\n",
        "            return current_rf\n",
        "            \n",
        "        else:\n",
        "            # For unknown layers, assume RF doesn't change\n",
        "            if debug:\n",
        "                print(f\"\\n[DEBUG] {layer_name} ({module.__class__.__name__}):\")\n",
        "                print(f\"  Unknown layer type - RF unchanged at {current_rf}\")\n",
        "            return current_rf\n",
        "\n",
        "    # Check device\n",
        "    device = device.type\n",
        "    assert device in [\n",
        "        \"cuda\",\n",
        "        \"cpu\",\n",
        "    ], \"Input device is not valid, please specify 'cuda' or 'cpu'\"\n",
        "\n",
        "    if device == \"cuda\" and torch.cuda.is_available():\n",
        "        dtype = torch.cuda.FloatTensor\n",
        "    else:\n",
        "        dtype = torch.FloatTensor\n",
        "\n",
        "    # Multiple inputs to the network\n",
        "    if isinstance(input_size, tuple):\n",
        "        input_size = [input_size]\n",
        "    if isinstance(input_size[0], (list, tuple)):\n",
        "        input_size = input_size\n",
        "    else:\n",
        "        input_size = [input_size]\n",
        "\n",
        "    # Batch_size of 2 for batchnorm\n",
        "    x = [torch.rand(2, *in_size).type(dtype) for in_size in input_size]\n",
        "\n",
        "    # Create properties\n",
        "    summary = OrderedDict()\n",
        "    hooks = []\n",
        "\n",
        "    # Register hook\n",
        "    model.apply(register_hook)\n",
        "\n",
        "    # Make a forward pass\n",
        "    model(*x)\n",
        "\n",
        "    # Remove these hooks\n",
        "    for h in hooks:\n",
        "        h.remove()\n",
        "\n",
        "    # Print summary\n",
        "    if debug:\n",
        "        print(\"\\n\" + \"=\" * 80)\n",
        "        print(\"DEBUG MODE: Detailed RF Calculations Complete\")\n",
        "        print(\"=\" * 80 + \"\\n\")\n",
        "    \n",
        "    print(\"=\" * 80)\n",
        "    line_new = \"{:>25}  {:>25} {:>15} {:>15}\".format(\n",
        "        \"Layer (type)\", \"Output Shape\", \"Param #\", \"RF\"\n",
        "    )\n",
        "    print(line_new)\n",
        "    print(\"=\" * 80)\n",
        "    \n",
        "    total_params = 0\n",
        "    total_output = 0\n",
        "    trainable_params = 0\n",
        "    \n",
        "    for layer in summary:\n",
        "        # Input_shape, output_shape, trainable, nb_params\n",
        "        rf_display = str(summary[layer][\"receptive_field\"])\n",
        "        line_new = \"{:>25}  {:>25} {:>15} {:>15}\".format(\n",
        "            layer,\n",
        "            str(summary[layer][\"output_shape\"]),\n",
        "            \"{0:,}\".format(summary[layer][\"nb_params\"]),\n",
        "            rf_display,\n",
        "        )\n",
        "        total_params += summary[layer][\"nb_params\"]\n",
        "\n",
        "        total_output_size = abs(np.prod(summary[layer][\"output_shape\"]))\n",
        "        total_output += total_output_size\n",
        "\n",
        "        if \"trainable\" in summary[layer]:\n",
        "            if summary[layer][\"trainable\"] == True:\n",
        "                trainable_params += summary[layer][\"nb_params\"]\n",
        "        print(line_new)\n",
        "\n",
        "    # Assume 4 bytes/number (float on cuda).\n",
        "    total_input_size = abs(np.prod(sum(input_size, ())))\n",
        "    total_output_size = abs(2.0 * total_output * 4.0 / (1024 ** 2.0))  # x2 for gradients\n",
        "    total_params_size = abs(total_params * 4.0 / (1024 ** 2.0))\n",
        "    total_input_size = abs(total_input_size * 4.0 / (1024 ** 2.0))\n",
        "\n",
        "    print(\"=\" * 80)\n",
        "    print(\"Total params: {0:,}\".format(total_params))\n",
        "    print(\"Trainable params: {0:,}\".format(trainable_params))\n",
        "    print(\"Non-trainable params: {0:,}\".format(total_params - trainable_params))\n",
        "    print(\"-\" * 80)\n",
        "    print(\"Input size (MB): %0.2f\" % total_input_size)\n",
        "    print(\"Forward/backward pass size (MB): %0.2f\" % total_output_size)\n",
        "    print(\"Params size (MB): %0.2f\" % total_params_size)\n",
        "    print(\"Estimated Total Size (MB): %0.2f\" % (total_params_size + total_output_size + total_input_size))\n",
        "    print(\"=\" * 80)\n",
        "    # Display final RF\n",
        "    final_rf_display = f\"GLOBAL({original_input_size}x{original_input_size})\" if isinstance(current_rf, int) and current_rf >= original_input_size else str(current_rf)\n",
        "    print(f\"Final Receptive Field: {final_rf_display}\")\n",
        "    print(\"=\" * 80)\n",
        "\n",
        "\n",
        "# Helper function to calculate RF for functional operations\n",
        "def calculate_functional_rf(operation_name, current_rf, current_jump, current_size, **kwargs):\n",
        "    \"\"\"\n",
        "    Calculate RF for functional operations like F.max_pool2d, F.conv2d, etc.\n",
        "    \n",
        "    Args:\n",
        "        operation_name: Name of the operation ('max_pool2d', 'conv2d', etc.)\n",
        "        current_rf: Current receptive field\n",
        "        current_jump: Current jump\n",
        "        current_size: Current spatial size\n",
        "        **kwargs: Operation-specific parameters\n",
        "        \n",
        "    Returns:\n",
        "        tuple: (new_rf, new_jump, new_size)\n",
        "    \"\"\"\n",
        "    \n",
        "    if operation_name == 'max_pool2d':\n",
        "        kernel_size = kwargs.get('kernel_size', 2)\n",
        "        stride = kwargs.get('stride', kernel_size)\n",
        "        padding = kwargs.get('padding', 0)\n",
        "        \n",
        "        # Calculate output size: Nout = 1 + (Nin + 2*p - k)/s\n",
        "        new_size = 1 + (current_size + 2 * padding - kernel_size) // stride\n",
        "        \n",
        "        # Calculate new RF: RFout = RFin + (k-1) * Jin\n",
        "        new_rf = current_rf + (kernel_size - 1) * current_jump\n",
        "        \n",
        "        # Calculate new Jump: Jout = s * Jin\n",
        "        new_jump = stride * current_jump\n",
        "        \n",
        "        return new_rf, new_jump, new_size\n",
        "        \n",
        "    elif operation_name == 'avg_pool2d':\n",
        "        # Same calculation as max_pool2d\n",
        "        return calculate_functional_rf('max_pool2d', current_rf, current_jump, current_size, **kwargs)\n",
        "        \n",
        "    elif operation_name == 'adaptive_avg_pool2d':\n",
        "        # FIXED: Handle adaptive pooling\n",
        "        output_size = kwargs.get('output_size', 1)\n",
        "        \n",
        "        if output_size == 1 or output_size == (1, 1):\n",
        "            # Global pooling - RF becomes the entire feature map\n",
        "            return 'GLOBAL', 1, 1\n",
        "        else:\n",
        "            # For other sizes, approximate\n",
        "            if isinstance(output_size, int):\n",
        "                out_size = output_size\n",
        "            else:\n",
        "                out_size = output_size[0]  # Assuming square\n",
        "            \n",
        "            approx_kernel = current_size // out_size\n",
        "            new_rf = current_rf + (approx_kernel - 1) * current_jump\n",
        "            return new_rf, current_jump, out_size\n",
        "        \n",
        "    elif operation_name in ['relu', 'dropout']:\n",
        "        # These don't change RF\n",
        "        return current_rf, current_jump, current_size\n",
        "        \n",
        "    else:\n",
        "        # Unknown operation, assume no change\n",
        "        return current_rf, current_jump, current_size\n",
        "\n"
      ]
    },
    {
      "cell_type": "markdown",
      "metadata": {
        "id": "ky3f_Odl-7um"
      },
      "source": [
        "## Data Transformations\n",
        "\n",
        "We first start with defining our data transformations. We need to think what our data is and how can we augment it to correct represent images which it might not see otherwise.\n",
        "\n",
        "Here is the list of all the transformations which come pre-built with PyTorch\n",
        "\n",
        "1.   Compose\n",
        "2.   ToTensor\n",
        "3.   ToPILImage\n",
        "4. Normalize\n",
        "5. Resize\n",
        "6. Scale\n",
        "7. CenterCrop\n",
        "8. Pad\n",
        "9. Lambda\n",
        "10. RandomApply\n",
        "11. RandomChoice\n",
        "12. RandomOrder\n",
        "13. RandomCrop\n",
        "14. RandomHorizontalFlip\n",
        "15. RandomVerticalFlip\n",
        "16. RandomResizedCrop\n",
        "17. RandomSizedCrop\n",
        "18. FiveCrop\n",
        "19. TenCrop\n",
        "20. LinearTransformation\n",
        "21. ColorJitter\n",
        "22. RandomRotation\n",
        "23. RandomAffine\n",
        "24. Grayscale\n",
        "25. RandomGrayscale\n",
        "26. RandomPerspective\n",
        "27. RandomErasing\n",
        "\n",
        "You can read more about them [here](https://pytorch.org/vision/stable/transforms.html)"
      ]
    },
    {
      "cell_type": "markdown",
      "metadata": {},
      "source": [
        "# The model\n",
        "Let's start with the model we first saw"
      ]
    },
    {
      "cell_type": "code",
      "execution_count": 4,
      "metadata": {},
      "outputs": [],
      "source": [
        "class Net_3(nn.Module):\n",
        "    def __init__(self):\n",
        "        super(Net_3, self).__init__()\n",
        "        \n",
        "        dropout = 0.1\n",
        "\n",
        "        self.conv1 = nn.Conv2d(1, 8, 3, bias=False)  # 28x28x1 > 26x26x8\n",
        "        self.bn1 = nn.BatchNorm2d(8)\n",
        "        self.dropout1 = nn.Dropout(dropout)\n",
        "        self.conv2 = nn.Conv2d(8, 16, 3, bias=False)  # 26x26x8 > 24x24x16\n",
        "        self.bn2 = nn.BatchNorm2d(16)\n",
        "        self.dropout2 = nn.Dropout(dropout)\n",
        "        self.conv3 = nn.Conv2d(16, 8, 1, bias=False)  # 24x24x16 > 24x24x8\n",
        "        self.bn3 = nn.BatchNorm2d(8)\n",
        "        self.dropout3 = nn.Dropout(dropout)\n",
        "        self.pool1 = nn.MaxPool2d(2, 2)  # 24x24x16 > 12x12x8\n",
        "        self.conv4 = nn.Conv2d(8, 18, 3, bias=False)  # 12x12x8 > 10x10x16\n",
        "        self.bn4 = nn.BatchNorm2d(18)\n",
        "        self.dropout4 = nn.Dropout(dropout)\n",
        "        self.conv5 = nn.Conv2d(18, 8, 3, bias=False)  # 10x10x16 > 8x8x8\n",
        "        self.bn5 = nn.BatchNorm2d(8)\n",
        "        self.dropout5 = nn.Dropout(dropout)\n",
        "        self.conv6 = nn.Conv2d(8, 16, 3, bias=False)  # 8x8x8 > 6x6x16\n",
        "        self.bn6 = nn.BatchNorm2d(16)\n",
        "        self.dropout6 = nn.Dropout(dropout)\n",
        "        self.conv7 = nn.Conv2d(16, 16, 3, bias=False)  # 6x6x16 > 4x4x16\n",
        "        self.bn7 = nn.BatchNorm2d(16)\n",
        "        self.dropout7 = nn.Dropout(dropout)\n",
        "        self.gap = nn.AdaptiveAvgPool2d(1)  # 4x4x16 > 1x1x16\n",
        "        self.conv8 = nn.Conv2d(16, 10, 1, bias=False)  # 1x1x16 > 1x1x10\n",
        "        self.bn8 = nn.BatchNorm2d(10)\n",
        "        self.dropout8 = nn.Dropout(dropout)\n",
        "        \n",
        "\n",
        "    def forward(self, x):\n",
        "        x = self.dropout2(F.relu(self.bn2(self.conv2(self.dropout1(F.relu(self.bn1(self.conv1(x))))))))\n",
        "        x = self.pool1(self.dropout3(self.bn3(F.relu(self.conv3(x)))))\n",
        "        x = self.dropout4(self.bn4(F.relu(self.conv4(x))))\n",
        "        x = self.bn5(F.relu(self.conv5(x)))\n",
        "        x = self.dropout5(x)\n",
        "        x = self.bn6(F.relu(self.conv6(x)))\n",
        "        #x = self.dropout6(x)\n",
        "        x = self.bn7(F.relu(self.conv7(x)))  # 1x1 convolution to map 14 channels to 10\n",
        "        #x = self.dropout7(x)\n",
        "        x = self.gap(x)  # Global average pooling to 1x1x14\n",
        "        x = self.bn8(F.relu(self.conv8(x)))\n",
        "        #x = self.dropout8(x)\n",
        "        #x = self.conv_out(x)  # 1x1 convolution to map 14 channels to 10\n",
        "        x = x.view(-1, 10)  # Flatten to (batch_size, 10)\n",
        "        return F.log_softmax(x, dim=-1)\n",
        " "
      ]
    },
    {
      "cell_type": "markdown",
      "metadata": {},
      "source": [
        "# Model Params\n",
        "Can't emphasize on how important viewing Model Summary is.\n",
        "Unfortunately, there is no in-built model visualizer, so we have to take external help"
      ]
    },
    {
      "cell_type": "code",
      "execution_count": 5,
      "metadata": {},
      "outputs": [
        {
          "name": "stdout",
          "output_type": "stream",
          "text": [
            "----------------------------------------------------------------\n",
            "        Layer (type)               Output Shape         Param #\n",
            "================================================================\n",
            "            Conv2d-1            [-1, 8, 26, 26]              72\n",
            "       BatchNorm2d-2            [-1, 8, 26, 26]              16\n",
            "           Dropout-3            [-1, 8, 26, 26]               0\n",
            "            Conv2d-4           [-1, 16, 24, 24]           1,152\n",
            "       BatchNorm2d-5           [-1, 16, 24, 24]              32\n",
            "           Dropout-6           [-1, 16, 24, 24]               0\n",
            "            Conv2d-7            [-1, 8, 24, 24]             128\n",
            "       BatchNorm2d-8            [-1, 8, 24, 24]              16\n",
            "           Dropout-9            [-1, 8, 24, 24]               0\n",
            "        MaxPool2d-10            [-1, 8, 12, 12]               0\n",
            "           Conv2d-11           [-1, 18, 10, 10]           1,296\n",
            "      BatchNorm2d-12           [-1, 18, 10, 10]              36\n",
            "          Dropout-13           [-1, 18, 10, 10]               0\n",
            "           Conv2d-14              [-1, 8, 8, 8]           1,296\n",
            "      BatchNorm2d-15              [-1, 8, 8, 8]              16\n",
            "          Dropout-16              [-1, 8, 8, 8]               0\n",
            "           Conv2d-17             [-1, 16, 6, 6]           1,152\n",
            "      BatchNorm2d-18             [-1, 16, 6, 6]              32\n",
            "           Conv2d-19             [-1, 16, 4, 4]           2,304\n",
            "      BatchNorm2d-20             [-1, 16, 4, 4]              32\n",
            "AdaptiveAvgPool2d-21             [-1, 16, 1, 1]               0\n",
            "           Conv2d-22             [-1, 10, 1, 1]             160\n",
            "      BatchNorm2d-23             [-1, 10, 1, 1]              20\n",
            "================================================================\n",
            "Total params: 7,760\n",
            "Trainable params: 7,760\n",
            "Non-trainable params: 0\n",
            "----------------------------------------------------------------\n",
            "Input size (MB): 0.00\n",
            "Forward/backward pass size (MB): 0.51\n",
            "Params size (MB): 0.03\n",
            "Estimated Total Size (MB): 0.55\n",
            "----------------------------------------------------------------\n"
          ]
        }
      ],
      "source": [
        "from torchsummary import summary\n",
        "use_cuda = torch.cuda.is_available()\n",
        "device = torch.device(\"cuda\" if use_cuda else \"cpu\")\n",
        "model = Net_3().to(device)\n",
        "summary(model, input_size=(1, 28, 28))"
      ]
    },
    {
      "cell_type": "code",
      "execution_count": 12,
      "metadata": {},
      "outputs": [
        {
          "name": "stdout",
          "output_type": "stream",
          "text": [
            "\n",
            "==================================================\n",
            "Enhanced Summary with Receptive Field:\n",
            "==================================================\n",
            "\n",
            "[DEBUG] Conv2d-1 (Conv2d):\n",
            "  Nin=28, Nout=26, k=3, s=1, p=0\n",
            "  Jin=1, Jout=1\n",
            "  Rin=1, Rout=3\n",
            "  Formula: Nout = 1 + (28 + 2*0 - 3)/1 = 26\n",
            "  Formula: Rout = 1 + (3-1)*1 = 3\n",
            "  Formula: Jout = 1*1 = 1\n",
            "\n",
            "[DEBUG] BatchNorm2d-2 (BatchNorm2d):\n",
            "  No change in RF: Nin=26, Nout=26\n",
            "  Jin=1, Jout=1\n",
            "  Rin=3, Rout=3\n",
            "\n",
            "[DEBUG] Dropout-3 (Dropout):\n",
            "  No change in RF: Nin=26, Nout=26\n",
            "  Jin=1, Jout=1\n",
            "  Rin=3, Rout=3\n",
            "\n",
            "[DEBUG] Conv2d-4 (Conv2d):\n",
            "  Nin=26, Nout=24, k=3, s=1, p=0\n",
            "  Jin=1, Jout=1\n",
            "  Rin=3, Rout=5\n",
            "  Formula: Nout = 1 + (26 + 2*0 - 3)/1 = 24\n",
            "  Formula: Rout = 3 + (3-1)*1 = 5\n",
            "  Formula: Jout = 1*1 = 1\n",
            "\n",
            "[DEBUG] BatchNorm2d-5 (BatchNorm2d):\n",
            "  No change in RF: Nin=24, Nout=24\n",
            "  Jin=1, Jout=1\n",
            "  Rin=5, Rout=5\n",
            "\n",
            "[DEBUG] Dropout-6 (Dropout):\n",
            "  No change in RF: Nin=24, Nout=24\n",
            "  Jin=1, Jout=1\n",
            "  Rin=5, Rout=5\n",
            "\n",
            "[DEBUG] Conv2d-7 (Conv2d):\n",
            "  Nin=24, Nout=24, k=1, s=1, p=0\n",
            "  Jin=1, Jout=1\n",
            "  Rin=5, Rout=5\n",
            "  Formula: Nout = 1 + (24 + 2*0 - 1)/1 = 24\n",
            "  Formula: Rout = 5 + (1-1)*1 = 5\n",
            "  Formula: Jout = 1*1 = 1\n",
            "\n",
            "[DEBUG] BatchNorm2d-8 (BatchNorm2d):\n",
            "  No change in RF: Nin=24, Nout=24\n",
            "  Jin=1, Jout=1\n",
            "  Rin=5, Rout=5\n",
            "\n",
            "[DEBUG] Dropout-9 (Dropout):\n",
            "  No change in RF: Nin=24, Nout=24\n",
            "  Jin=1, Jout=1\n",
            "  Rin=5, Rout=5\n",
            "\n",
            "[DEBUG] MaxPool2d-10 (MaxPool2d):\n",
            "  Nin=24, Nout=12, k=2, s=2, p=0\n",
            "  Jin=1, Jout=2\n",
            "  Rin=5, Rout=6\n",
            "  Formula: Nout = 1 + (24 + 2*0 - 2)/2 = 12\n",
            "  Formula: Rout = 5 + (2-1)*1 = 6\n",
            "  Formula: Jout = 2*1 = 2\n",
            "\n",
            "[DEBUG] Conv2d-11 (Conv2d):\n",
            "  Nin=12, Nout=10, k=3, s=1, p=0\n",
            "  Jin=2, Jout=2\n",
            "  Rin=6, Rout=10\n",
            "  Formula: Nout = 1 + (12 + 2*0 - 3)/1 = 10\n",
            "  Formula: Rout = 6 + (3-1)*2 = 10\n",
            "  Formula: Jout = 1*2 = 2\n",
            "\n",
            "[DEBUG] BatchNorm2d-12 (BatchNorm2d):\n",
            "  No change in RF: Nin=10, Nout=10\n",
            "  Jin=2, Jout=2\n",
            "  Rin=10, Rout=10\n",
            "\n",
            "[DEBUG] Dropout-13 (Dropout):\n",
            "  No change in RF: Nin=10, Nout=10\n",
            "  Jin=2, Jout=2\n",
            "  Rin=10, Rout=10\n",
            "\n",
            "[DEBUG] Conv2d-14 (Conv2d):\n",
            "  Nin=10, Nout=8, k=3, s=1, p=0\n",
            "  Jin=2, Jout=2\n",
            "  Rin=10, Rout=14\n",
            "  Formula: Nout = 1 + (10 + 2*0 - 3)/1 = 8\n",
            "  Formula: Rout = 10 + (3-1)*2 = 14\n",
            "  Formula: Jout = 1*2 = 2\n",
            "\n",
            "[DEBUG] BatchNorm2d-15 (BatchNorm2d):\n",
            "  No change in RF: Nin=8, Nout=8\n",
            "  Jin=2, Jout=2\n",
            "  Rin=14, Rout=14\n",
            "\n",
            "[DEBUG] Dropout-16 (Dropout):\n",
            "  No change in RF: Nin=8, Nout=8\n",
            "  Jin=2, Jout=2\n",
            "  Rin=14, Rout=14\n",
            "\n",
            "[DEBUG] Conv2d-17 (Conv2d):\n",
            "  Nin=8, Nout=6, k=3, s=1, p=0\n",
            "  Jin=2, Jout=2\n",
            "  Rin=14, Rout=18\n",
            "  Formula: Nout = 1 + (8 + 2*0 - 3)/1 = 6\n",
            "  Formula: Rout = 14 + (3-1)*2 = 18\n",
            "  Formula: Jout = 1*2 = 2\n",
            "\n",
            "[DEBUG] BatchNorm2d-18 (BatchNorm2d):\n",
            "  No change in RF: Nin=6, Nout=6\n",
            "  Jin=2, Jout=2\n",
            "  Rin=18, Rout=18\n",
            "\n",
            "[DEBUG] Conv2d-19 (Conv2d):\n",
            "  Nin=6, Nout=4, k=3, s=1, p=0\n",
            "  Jin=2, Jout=2\n",
            "  Rin=18, Rout=22\n",
            "  Formula: Nout = 1 + (6 + 2*0 - 3)/1 = 4\n",
            "  Formula: Rout = 18 + (3-1)*2 = 22\n",
            "  Formula: Jout = 1*2 = 2\n",
            "\n",
            "[DEBUG] BatchNorm2d-20 (BatchNorm2d):\n",
            "  No change in RF: Nin=4, Nout=4\n",
            "  Jin=2, Jout=2\n",
            "  Rin=22, Rout=22\n",
            "\n",
            "[DEBUG] AdaptiveAvgPool2d-21 (AdaptiveAvgPool2d - Global):\n",
            "  Nin=4, Nout=1, k=4 (adaptive), s=4, p=0\n",
            "  Jin=2, Jout=1 (global pooling)\n",
            "  Rin=22, Rout=28\n",
            "  Formula: Rout = 22 + (4-1)*2 = 28\n",
            "  Note: Global Average Pooling - each output sees entire 4x4 feature map\n",
            "  RF exceeds input size (28 >= 28) - complete coverage of 28x28 input\n",
            "\n",
            "[DEBUG] Conv2d-22 (Conv2d):\n",
            "  Nin=1, Nout=1, k=1, s=1, p=0\n",
            "  Jin=1, Jout=1\n",
            "  Rin=28, Rout=28\n",
            "  Formula: Nout = 1 + (1 + 2*0 - 1)/1 = 1\n",
            "  Formula: Rout = 28 + (1-1)*1 = 28\n",
            "  Formula: Jout = 1*1 = 1\n",
            "\n",
            "[DEBUG] BatchNorm2d-23 (BatchNorm2d):\n",
            "  No change in RF: Nin=1, Nout=1\n",
            "  Jin=1, Jout=1\n",
            "  Rin=28, Rout=28\n",
            "\n",
            "================================================================================\n",
            "DEBUG MODE: Detailed RF Calculations Complete\n",
            "================================================================================\n",
            "\n",
            "================================================================================\n",
            "             Layer (type)               Output Shape         Param #              RF\n",
            "================================================================================\n",
            "                 Conv2d-1            [-1, 8, 26, 26]              72               3\n",
            "            BatchNorm2d-2            [-1, 8, 26, 26]              16               3\n",
            "                Dropout-3            [-1, 8, 26, 26]               0               3\n",
            "                 Conv2d-4           [-1, 16, 24, 24]           1,152               5\n",
            "            BatchNorm2d-5           [-1, 16, 24, 24]              32               5\n",
            "                Dropout-6           [-1, 16, 24, 24]               0               5\n",
            "                 Conv2d-7            [-1, 8, 24, 24]             128               5\n",
            "            BatchNorm2d-8            [-1, 8, 24, 24]              16               5\n",
            "                Dropout-9            [-1, 8, 24, 24]               0               5\n",
            "             MaxPool2d-10            [-1, 8, 12, 12]               0               6\n",
            "                Conv2d-11           [-1, 18, 10, 10]           1,296              10\n",
            "           BatchNorm2d-12           [-1, 18, 10, 10]              36              10\n",
            "               Dropout-13           [-1, 18, 10, 10]               0              10\n",
            "                Conv2d-14              [-1, 8, 8, 8]           1,296              14\n",
            "           BatchNorm2d-15              [-1, 8, 8, 8]              16              14\n",
            "               Dropout-16              [-1, 8, 8, 8]               0              14\n",
            "                Conv2d-17             [-1, 16, 6, 6]           1,152              18\n",
            "           BatchNorm2d-18             [-1, 16, 6, 6]              32              18\n",
            "                Conv2d-19             [-1, 16, 4, 4]           2,304              22\n",
            "           BatchNorm2d-20             [-1, 16, 4, 4]              32              22\n",
            "     AdaptiveAvgPool2d-21             [-1, 16, 1, 1]               0     GLOBAL(4x4)\n",
            "                Conv2d-22             [-1, 10, 1, 1]             160              28\n",
            "           BatchNorm2d-23             [-1, 10, 1, 1]              20              28\n",
            "================================================================================\n",
            "Total params: 7,760\n",
            "Trainable params: 7,760\n",
            "Non-trainable params: 0\n",
            "--------------------------------------------------------------------------------\n",
            "Input size (MB): 0.00\n",
            "Forward/backward pass size (MB): 0.51\n",
            "Params size (MB): 0.03\n",
            "Estimated Total Size (MB): 0.55\n",
            "================================================================================\n",
            "Final Receptive Field: GLOBAL(28x28)\n",
            "================================================================================\n"
          ]
        }
      ],
      "source": [
        "print(\"\\n\" + \"=\"*50)\n",
        "print(\"Enhanced Summary with Receptive Field:\")\n",
        "print(\"=\"*50)\n",
        "summary_with_rf(model, input_size=(1, 28, 28), device=device, debug=True)"
      ]
    },
    {
      "cell_type": "markdown",
      "metadata": {
        "id": "oQciFYo2B1mO"
      },
      "source": [
        "# Dataset and Creating Train/Test Split"
      ]
    },
    {
      "cell_type": "markdown",
      "metadata": {
        "id": "qgldp_3-Dn0c"
      },
      "source": [
        "# Dataloader Arguments & Test/Train Dataloaders\n"
      ]
    },
    {
      "cell_type": "code",
      "execution_count": 97,
      "metadata": {},
      "outputs": [
        {
          "name": "stdout",
          "output_type": "stream",
          "text": [
            "Training set size: 50000\n",
            "Validation set size: 10000\n"
          ]
        }
      ],
      "source": [
        "import torch\n",
        "from torch.utils.data import random_split\n",
        "from torchvision import datasets, transforms\n",
        "\n",
        "#Enhanced data augmentation pipeline for better generalization\n",
        "\n",
        "train_transform = transforms.Compose([\n",
        "\n",
        "                        transforms.GaussianBlur(kernel_size=5, sigma=(0.1, 2.0)),  # Apply Gaussian Blur\n",
        "                        transforms.RandomRotation(degrees=10), \n",
        "                        transforms.RandomAffine(degrees=5, translate=(0.1,0.1), scale=(0.9, 1.1), shear=5),\n",
        "                        #transforms.RandomPerspective(distortion_scale=0.3, p=0.5),\n",
        "                        #transforms.ColorJitter(brightness=0.2, contrast=0.2),\n",
        "                        transforms.RandomErasing(p=0.5, scale=(0.02, 0.25), ratio=(0.3, 3.3)),\n",
        "                        transforms.ToTensor(), \n",
        "                        transforms.Normalize((0.1307,), (0.3081,))\n",
        "])\n",
        "\n",
        "\n",
        "# Clean validation transforms (no augmentation)\n",
        "val_transform = transforms.Compose([\n",
        "    transforms.ToTensor(),\n",
        "    transforms.Normalize((0.1307,), (0.3081,))\n",
        "])\n",
        "\n",
        "\n",
        "# Load the full training dataset (60K samples)\n",
        "full_train_dataset = datasets.MNIST('../data', train=True, download=True, transform=None)\n",
        "\n",
        "# Split 60K into 50K train + 10K validation\n",
        "train_size = 50000\n",
        "val_size = 10000\n",
        "train_dataset, val_dataset = random_split(full_train_dataset, [train_size, val_size])\n",
        "\n",
        "# Create data loaders\n",
        "batch_size = 128\n",
        "kwargs = {'num_workers': 1, 'pin_memory': True} if use_cuda else {}\n",
        "\n",
        "# Step 4: Apply specific transforms to the train and test datasets\n",
        "# Wrap the datasets with the appropriate transform\n",
        "train_dataset.dataset.transform = train_transform\n",
        "val_dataset.dataset.transform = val_transform\n",
        "\n",
        "train_loader = torch.utils.data.DataLoader(train_dataset, batch_size=batch_size, \n",
        "                                          shuffle=True, **kwargs)\n",
        "\n",
        "val_loader = torch.utils.data.DataLoader(val_dataset, batch_size=batch_size, \n",
        "                                        shuffle=False, **kwargs)\n",
        "\n",
        "print(f\"Training set size: {len(train_dataset)}\")      # 50,000\n",
        "print(f\"Validation set size: {len(val_dataset)}\")      # 10,000"
      ]
    },
    {
      "cell_type": "markdown",
      "metadata": {
        "id": "7l9lNaWYKuik"
      },
      "source": [
        "## MORE\n",
        "\n",
        "It is important that we view as many images as possible. This is required to get some idea on image augmentation later on"
      ]
    },
    {
      "cell_type": "code",
      "execution_count": 74,
      "metadata": {
        "colab": {
          "base_uri": "https://localhost:8080/",
          "height": 395
        },
        "id": "hXXAg8hbK16u",
        "outputId": "4c240ed4-24ba-42d1-83e8-7deb17eb60d7"
      },
      "outputs": [
        {
          "data": {
            "image/png": "[encoded data removed]",
            "text/plain": [
              "<Figure size 432x288 with 60 Axes>"
            ]
          },
          "metadata": {
            "needs_background": "light"
          },
          "output_type": "display_data"
        }
      ],
      "source": [
        "import matplotlib.pyplot as plt\n",
        "dataiter = iter(train_loader)\n",
        "images, labels = next(dataiter)\n",
        "\n",
        "%matplotlib inline\n",
        "import matplotlib.pyplot as plt\n",
        "figure = plt.figure()\n",
        "num_of_images = 60\n",
        "for index in range(1, num_of_images + 1):\n",
        "    plt.subplot(6, 10, index)\n",
        "    plt.axis('off')\n",
        "    plt.imshow(images[index].numpy().squeeze(), cmap='gray_r')"
      ]
    },
    {
      "cell_type": "code",
      "execution_count": 75,
      "metadata": {
        "colab": {
          "base_uri": "https://localhost:8080/"
        },
        "id": "5skB97zIJQQe",
        "outputId": "c9853f93-b46a-441e-d4d6-4f68dc65b354"
      },
      "outputs": [
        {
          "name": "stdout",
          "output_type": "stream",
          "text": [
            "cuda\n",
            "----------------------------------------------------------------\n",
            "        Layer (type)               Output Shape         Param #\n",
            "================================================================\n",
            "            Conv2d-1            [-1, 8, 26, 26]              72\n",
            "       BatchNorm2d-2            [-1, 8, 26, 26]              16\n",
            "           Dropout-3            [-1, 8, 26, 26]               0\n",
            "            Conv2d-4           [-1, 16, 24, 24]           1,152\n",
            "       BatchNorm2d-5           [-1, 16, 24, 24]              32\n",
            "           Dropout-6           [-1, 16, 24, 24]               0\n",
            "            Conv2d-7            [-1, 8, 24, 24]             128\n",
            "       BatchNorm2d-8            [-1, 8, 24, 24]              16\n",
            "           Dropout-9            [-1, 8, 24, 24]               0\n",
            "        MaxPool2d-10            [-1, 8, 12, 12]               0\n",
            "           Conv2d-11           [-1, 20, 10, 10]           1,440\n",
            "      BatchNorm2d-12           [-1, 20, 10, 10]              40\n",
            "          Dropout-13           [-1, 20, 10, 10]               0\n",
            "           Conv2d-14              [-1, 8, 8, 8]           1,440\n",
            "      BatchNorm2d-15              [-1, 8, 8, 8]              16\n",
            "          Dropout-16              [-1, 8, 8, 8]               0\n",
            "           Conv2d-17             [-1, 16, 6, 6]           1,152\n",
            "      BatchNorm2d-18             [-1, 16, 6, 6]              32\n",
            "          Dropout-19             [-1, 16, 6, 6]               0\n",
            "           Conv2d-20             [-1, 16, 4, 4]           2,304\n",
            "      BatchNorm2d-21             [-1, 16, 4, 4]              32\n",
            "          Dropout-22             [-1, 16, 4, 4]               0\n",
            "AdaptiveAvgPool2d-23             [-1, 16, 1, 1]               0\n",
            "           Conv2d-24             [-1, 10, 1, 1]             160\n",
            "      BatchNorm2d-25             [-1, 10, 1, 1]              20\n",
            "          Dropout-26             [-1, 10, 1, 1]               0\n",
            "================================================================\n",
            "Total params: 8,052\n",
            "Trainable params: 8,052\n",
            "Non-trainable params: 0\n",
            "----------------------------------------------------------------\n",
            "Input size (MB): 0.00\n",
            "Forward/backward pass size (MB): 0.53\n",
            "Params size (MB): 0.03\n",
            "Estimated Total Size (MB): 0.56\n",
            "----------------------------------------------------------------\n"
          ]
        }
      ],
      "source": [
        "\n",
        "from torchsummary import summary\n",
        "use_cuda = torch.cuda.is_available()\n",
        "device = torch.device(\"cuda\" if use_cuda else \"cpu\")\n",
        "print(device)\n",
        "model = Net_3().to(device)\n",
        "summary(model, input_size=(1, 28, 28))"
      ]
    },
    {
      "cell_type": "markdown",
      "metadata": {
        "id": "1__x_SbrL7z3"
      },
      "source": [
        "# Training and Testing\n",
        "\n",
        "All right, so we have 6.3M params, and that's too many, we know that. But the purpose of this notebook is to set things right for our future experiments.\n",
        "\n",
        "Looking at logs can be boring, so we'll introduce **tqdm** progressbar to get cooler logs.\n",
        "\n",
        "Let's write train and test functions"
      ]
    },
    {
      "cell_type": "code",
      "execution_count": 76,
      "metadata": {
        "id": "fbkF2nN_LYIb"
      },
      "outputs": [],
      "source": [
        "from tqdm import tqdm\n",
        "\n",
        "train_losses = []\n",
        "test_losses = []\n",
        "train_acc = []\n",
        "test_acc = []\n",
        "\n",
        "def train(model, device, train_loader, optimizer, scheduler, epoch):\n",
        "  model.train()\n",
        "  pbar = tqdm(train_loader)\n",
        "  correct = 0\n",
        "  processed = 0\n",
        "  for batch_idx, (data, target) in enumerate(pbar):\n",
        "    # get samples\n",
        "    data, target = data.to(device), target.to(device)\n",
        "\n",
        "    # Init\n",
        "    optimizer.zero_grad()\n",
        "    # In PyTorch, we need to set the gradients to zero before starting to do backpropragation because PyTorch accumulates the gradients on subsequent backward passes.\n",
        "    # Because of this, when you start your training loop, ideally you should zero out the gradients so that you do the parameter update correctly.\n",
        "\n",
        "    # Predict\n",
        "    y_pred = model(data)\n",
        "\n",
        "    # Calculate loss\n",
        "    loss = F.nll_loss(y_pred, target)\n",
        "    train_losses.append(loss)\n",
        "\n",
        "    # Backpropagation\n",
        "    loss.backward()\n",
        "    optimizer.step()\n",
        "\n",
        "    scheduler.step()\n",
        "\n",
        "    # Update pbar-tqdm\n",
        "\n",
        "    pred = y_pred.argmax(dim=1, keepdim=True)  # get the index of the max log-probability\n",
        "    correct += pred.eq(target.view_as(pred)).sum().item()\n",
        "    processed += len(data)\n",
        "\n",
        "    # Display current learning rate\n",
        "    current_lr = scheduler.get_last_lr()[0]\n",
        "    pbar.set_description(f'Epoch={epoch} LR={current_lr:.5f} Loss={loss.item():.4f} Batch_id={batch_idx}, Acc={100*correct/processed:.2f}')\n",
        "    \n",
        "    train_acc.append(100*correct/processed)\n",
        "\n",
        "def test(model, device, test_loader):\n",
        "    model.eval()\n",
        "    test_loss = 0\n",
        "    correct = 0\n",
        "    with torch.no_grad():\n",
        "        for data, target in test_loader:\n",
        "            data, target = data.to(device), target.to(device)\n",
        "            output = model(data)\n",
        "            test_loss += F.nll_loss(output, target, reduction='sum').item()  # sum up batch loss\n",
        "            pred = output.argmax(dim=1, keepdim=True)  # get the index of the max log-probability\n",
        "            correct += pred.eq(target.view_as(pred)).sum().item()\n",
        "\n",
        "    test_loss /= len(test_loader.dataset)\n",
        "    test_losses.append(test_loss)\n",
        "\n",
        "    print('\\nTest set: Average loss: {:.4f}, Accuracy: {}/{} ({:.2f}%)\\n'.format(\n",
        "        test_loss, correct, len(test_loader.dataset),\n",
        "        100. * correct / len(test_loader.dataset)))\n",
        "\n",
        "    test_acc.append(100. * correct / len(test_loader.dataset))"
      ]
    },
    {
      "cell_type": "markdown",
      "metadata": {
        "id": "drokW8wWODKq"
      },
      "source": [
        "# Let's Train and test our model"
      ]
    },
    {
      "cell_type": "code",
      "execution_count": 98,
      "metadata": {
        "colab": {
          "base_uri": "https://localhost:8080/"
        },
        "id": "xMCFxeAKOB53",
        "outputId": "0cbcfed9-de1c-4f4d-838a-23b0e02a543d"
      },
      "outputs": [
        {
          "name": "stdout",
          "output_type": "stream",
          "text": [
            "EPOCH: 0\n"
          ]
        },
        {
          "name": "stderr",
          "output_type": "stream",
          "text": [
            "Epoch=0 LR=0.01524 Loss=0.0920 Batch_id=390, Acc=90.31: 100%|██████████| 391/391 [00:05<00:00, 66.11it/s] \n"
          ]
        },
        {
          "name": "stdout",
          "output_type": "stream",
          "text": [
            "\n",
            "Test set: Average loss: 0.1588, Accuracy: 9552/10000 (95.52%)\n",
            "\n",
            "EPOCH: 1\n"
          ]
        },
        {
          "name": "stderr",
          "output_type": "stream",
          "text": [
            "Epoch=1 LR=0.04370 Loss=0.0525 Batch_id=390, Acc=97.20: 100%|██████████| 391/391 [00:06<00:00, 56.46it/s] \n"
          ]
        },
        {
          "name": "stdout",
          "output_type": "stream",
          "text": [
            "\n",
            "Test set: Average loss: 0.0743, Accuracy: 9781/10000 (97.81%)\n",
            "\n",
            "EPOCH: 2\n"
          ]
        },
        {
          "name": "stderr",
          "output_type": "stream",
          "text": [
            "Epoch=2 LR=0.07605 Loss=0.0301 Batch_id=390, Acc=97.75: 100%|██████████| 391/391 [00:06<00:00, 59.21it/s] \n"
          ]
        },
        {
          "name": "stdout",
          "output_type": "stream",
          "text": [
            "\n",
            "Test set: Average loss: 0.0492, Accuracy: 9856/10000 (98.56%)\n",
            "\n",
            "EPOCH: 3\n"
          ]
        },
        {
          "name": "stderr",
          "output_type": "stream",
          "text": [
            "Epoch=3 LR=0.09713 Loss=0.0329 Batch_id=390, Acc=98.20: 100%|██████████| 391/391 [00:04<00:00, 81.30it/s] \n"
          ]
        },
        {
          "name": "stdout",
          "output_type": "stream",
          "text": [
            "\n",
            "Test set: Average loss: 0.0489, Accuracy: 9862/10000 (98.62%)\n",
            "\n",
            "EPOCH: 4\n"
          ]
        },
        {
          "name": "stderr",
          "output_type": "stream",
          "text": [
            "Epoch=4 LR=0.09944 Loss=0.0782 Batch_id=390, Acc=98.44: 100%|██████████| 391/391 [00:05<00:00, 70.14it/s] \n"
          ]
        },
        {
          "name": "stdout",
          "output_type": "stream",
          "text": [
            "\n",
            "Test set: Average loss: 0.0394, Accuracy: 9880/10000 (98.80%)\n",
            "\n",
            "EPOCH: 5\n"
          ]
        },
        {
          "name": "stderr",
          "output_type": "stream",
          "text": [
            "Epoch=5 LR=0.09503 Loss=0.0040 Batch_id=390, Acc=98.55: 100%|██████████| 391/391 [00:08<00:00, 48.06it/s]\n"
          ]
        },
        {
          "name": "stdout",
          "output_type": "stream",
          "text": [
            "\n",
            "Test set: Average loss: 0.0354, Accuracy: 9896/10000 (98.96%)\n",
            "\n",
            "EPOCH: 6\n"
          ]
        },
        {
          "name": "stderr",
          "output_type": "stream",
          "text": [
            "Epoch=6 LR=0.08663 Loss=0.0097 Batch_id=390, Acc=98.76: 100%|██████████| 391/391 [00:05<00:00, 72.55it/s] \n"
          ]
        },
        {
          "name": "stdout",
          "output_type": "stream",
          "text": [
            "\n",
            "Test set: Average loss: 0.0280, Accuracy: 9918/10000 (99.18%)\n",
            "\n",
            "EPOCH: 7\n"
          ]
        },
        {
          "name": "stderr",
          "output_type": "stream",
          "text": [
            "Epoch=7 LR=0.07497 Loss=0.0177 Batch_id=390, Acc=98.73: 100%|██████████| 391/391 [00:06<00:00, 56.48it/s] \n"
          ]
        },
        {
          "name": "stdout",
          "output_type": "stream",
          "text": [
            "\n",
            "Test set: Average loss: 0.0326, Accuracy: 9902/10000 (99.02%)\n",
            "\n",
            "EPOCH: 8\n"
          ]
        },
        {
          "name": "stderr",
          "output_type": "stream",
          "text": [
            "Epoch=8 LR=0.06109 Loss=0.0069 Batch_id=390, Acc=98.87: 100%|██████████| 391/391 [00:03<00:00, 109.97it/s]\n"
          ]
        },
        {
          "name": "stdout",
          "output_type": "stream",
          "text": [
            "\n",
            "Test set: Average loss: 0.0291, Accuracy: 9921/10000 (99.21%)\n",
            "\n",
            "EPOCH: 9\n"
          ]
        },
        {
          "name": "stderr",
          "output_type": "stream",
          "text": [
            "Epoch=9 LR=0.04623 Loss=0.1083 Batch_id=390, Acc=99.02: 100%|██████████| 391/391 [00:05<00:00, 77.56it/s] \n"
          ]
        },
        {
          "name": "stdout",
          "output_type": "stream",
          "text": [
            "\n",
            "Test set: Average loss: 0.0269, Accuracy: 9919/10000 (99.19%)\n",
            "\n",
            "EPOCH: 10\n"
          ]
        },
        {
          "name": "stderr",
          "output_type": "stream",
          "text": [
            "Epoch=10 LR=0.03170 Loss=0.0265 Batch_id=390, Acc=99.03: 100%|██████████| 391/391 [00:05<00:00, 70.42it/s] \n"
          ]
        },
        {
          "name": "stdout",
          "output_type": "stream",
          "text": [
            "\n",
            "Test set: Average loss: 0.0254, Accuracy: 9932/10000 (99.32%)\n",
            "\n",
            "EPOCH: 11\n"
          ]
        },
        {
          "name": "stderr",
          "output_type": "stream",
          "text": [
            "Epoch=11 LR=0.01880 Loss=0.0031 Batch_id=390, Acc=99.09: 100%|██████████| 391/391 [00:03<00:00, 123.20it/s]\n"
          ]
        },
        {
          "name": "stdout",
          "output_type": "stream",
          "text": [
            "\n",
            "Test set: Average loss: 0.0252, Accuracy: 9934/10000 (99.34%)\n",
            "\n",
            "EPOCH: 12\n"
          ]
        },
        {
          "name": "stderr",
          "output_type": "stream",
          "text": [
            "Epoch=12 LR=0.00867 Loss=0.0022 Batch_id=390, Acc=99.19: 100%|██████████| 391/391 [00:05<00:00, 76.46it/s] \n"
          ]
        },
        {
          "name": "stdout",
          "output_type": "stream",
          "text": [
            "\n",
            "Test set: Average loss: 0.0218, Accuracy: 9942/10000 (99.42%)\n",
            "\n",
            "EPOCH: 13\n"
          ]
        },
        {
          "name": "stderr",
          "output_type": "stream",
          "text": [
            "Epoch=13 LR=0.00221 Loss=0.0046 Batch_id=390, Acc=99.30: 100%|██████████| 391/391 [00:07<00:00, 53.75it/s] \n"
          ]
        },
        {
          "name": "stdout",
          "output_type": "stream",
          "text": [
            "\n",
            "Test set: Average loss: 0.0215, Accuracy: 9942/10000 (99.42%)\n",
            "\n",
            "EPOCH: 14\n"
          ]
        },
        {
          "name": "stderr",
          "output_type": "stream",
          "text": [
            "Epoch=14 LR=0.00000 Loss=0.0016 Batch_id=390, Acc=99.35: 100%|██████████| 391/391 [00:03<00:00, 118.88it/s]\n"
          ]
        },
        {
          "name": "stdout",
          "output_type": "stream",
          "text": [
            "\n",
            "Test set: Average loss: 0.0218, Accuracy: 9943/10000 (99.43%)\n",
            "\n"
          ]
        }
      ],
      "source": [
        "from torch.optim.lr_scheduler import StepLR\n",
        "model =  Net_3().to(device)\n",
        "optimizer = optim.SGD(model.parameters(), lr=0.004, momentum=0.9)\n",
        "\n",
        "\n",
        "# Use OneCycleLR scheduler\n",
        "scheduler = torch.optim.lr_scheduler.OneCycleLR(\n",
        "    optimizer,\n",
        "    max_lr=0.1,\n",
        "    epochs=15,\n",
        "    steps_per_epoch=len(train_loader)\n",
        ")\n",
        "\n",
        "#scheduler = StepLR(optimizer, step_size=6, gamma=0.1)\n",
        "\n",
        "EPOCHS = 15\n",
        "for epoch in range(EPOCHS):\n",
        "    print(\"EPOCH:\", epoch)\n",
        "    train(model, device, train_loader, optimizer, scheduler, epoch)\n",
        "    test(model, device, val_loader)"
      ]
    },
    {
      "cell_type": "code",
      "execution_count": 99,
      "metadata": {
        "id": "BnfNrAmKl5Tc"
      },
      "outputs": [],
      "source": [
        "t = [t_items.item() for t_items in train_losses]"
      ]
    },
    {
      "cell_type": "code",
      "execution_count": 100,
      "metadata": {
        "colab": {
          "base_uri": "https://localhost:8080/",
          "height": 742
        },
        "id": "87RaqGSEOWDe",
        "outputId": "897f73d1-5b6b-4130-c56c-9203c808fdab"
      },
      "outputs": [
        {
          "data": {
            "text/plain": [
              "Text(0.5, 1.0, 'Test Accuracy')"
            ]
          },
          "execution_count": 100,
          "metadata": {},
          "output_type": "execute_result"
        },
        {
          "data": {
            "image/png": "[encoded data removed]",
            "text/plain": [
              "<Figure size 1080x720 with 4 Axes>"
            ]
          },
          "metadata": {
            "needs_background": "light"
          },
          "output_type": "display_data"
        }
      ],
      "source": [
        "fig, axs = plt.subplots(2,2,figsize=(15,10))\n",
        "axs[0, 0].plot(t)\n",
        "axs[0, 0].set_title(\"Training Loss\")\n",
        "axs[1, 0].plot(train_acc)\n",
        "axs[1, 0].set_title(\"Training Accuracy\")\n",
        "axs[0, 1].plot(test_losses)\n",
        "axs[0, 1].set_title(\"Test Loss\")\n",
        "axs[1, 1].plot(test_acc)\n",
        "axs[1, 1].set_title(\"Test Accuracy\")"
      ]
    },
    {
      "cell_type": "code",
      "execution_count": null,
      "metadata": {
        "id": "odozjbIvY12p"
      },
      "outputs": [],
      "source": []
    }
  ],
  "metadata": {
    "accelerator": "GPU",
    "colab": {
      "gpuType": "T4",
      "provenance": []
    },
    "kernelspec": {
      "display_name": "pytorch-gpu",
      "language": "python",
      "name": "python3"
    },
    "language_info": {
      "codemirror_mode": {
        "name": "ipython",
        "version": 3
      },
      "file_extension": ".py",
      "mimetype": "text/x-python",
      "name": "python",
      "nbconvert_exporter": "python",
      "pygments_lexer": "ipython3",
      "version": "3.9.21"
    }
  },
  "nbformat": 4,
  "nbformat_minor": 0
}
