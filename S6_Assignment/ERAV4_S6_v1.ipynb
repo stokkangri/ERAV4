{
  "cells": [
    {
      "cell_type": "markdown",
      "metadata": {
        "id": "aO-7t1Y7-hV4"
      },
      "source": [
        "# Import Libraries"
      ]
    },
    {
      "cell_type": "code",
      "execution_count": 1,
      "metadata": {
        "id": "8kH16rnZ7wt_"
      },
      "outputs": [],
      "source": [
        "from __future__ import print_function\n",
        "import torch\n",
        "import torch.nn as nn\n",
        "import torch.nn.functional as F\n",
        "import torch.optim as optim\n",
        "from torchvision import datasets, transforms"
      ]
    },
    {
      "cell_type": "code",
      "execution_count": 16,
      "metadata": {},
      "outputs": [],
      "source": [
        "import torch\n",
        "import torch.nn as nn\n",
        "import torch.nn.functional as F\n",
        "from collections import OrderedDict\n",
        "import numpy as np\n",
        "\n",
        "def summary_with_rf(model, input_size, batch_size=-1, device=\"cuda\", dtypes=None, debug=False):\n",
        "    \"\"\"\n",
        "    Enhanced torchsummary that calculates and displays receptive fields\n",
        "    \n",
        "    Args:\n",
        "        model: PyTorch model\n",
        "        input_size: Input tensor size (C, H, W) or tuple of sizes for multiple inputs\n",
        "        batch_size: Batch size for summary (default: -1)\n",
        "        device: Device to run model on (default: \"cuda\")\n",
        "        dtypes: Data types for inputs (default: None, uses torch.FloatTensor)\n",
        "        debug: If True, prints detailed RF calculations (Nin, Nout, k, s, p, Jin, Jout, Rin, Rout)\n",
        "        \n",
        "    Returns:\n",
        "        None (prints summary table)\n",
        "    \"\"\"\n",
        "    \n",
        "    def register_hook(module):\n",
        "        def hook(module, input, output):\n",
        "            class_name = str(module.__class__).split(\".\")[-1].split(\"'\")[0]\n",
        "            module_idx = len(summary)\n",
        "            \n",
        "            m_key = \"%s-%i\" % (class_name, module_idx + 1)\n",
        "            summary[m_key] = OrderedDict()\n",
        "            summary[m_key][\"input_shape\"] = list(input[0].size())\n",
        "            summary[m_key][\"input_shape\"][0] = batch_size\n",
        "            \n",
        "            if isinstance(output, (list, tuple)):\n",
        "                summary[m_key][\"output_shape\"] = [\n",
        "                    [-1] + list(o.size())[1:] for o in output\n",
        "                ]\n",
        "            else:\n",
        "                summary[m_key][\"output_shape\"] = list(output.size())\n",
        "                summary[m_key][\"output_shape\"][0] = batch_size\n",
        "                \n",
        "            params = 0\n",
        "            if hasattr(module, \"weight\") and hasattr(module.weight, \"size\"):\n",
        "                params += torch.prod(torch.LongTensor(list(module.weight.size())))\n",
        "                summary[m_key][\"trainable\"] = module.weight.requires_grad\n",
        "            if hasattr(module, \"bias\") and hasattr(module.bias, \"size\"):\n",
        "                params += torch.prod(torch.LongTensor(list(module.bias.size())))\n",
        "            summary[m_key][\"nb_params\"] = params\n",
        "            \n",
        "            # Calculate receptive field\n",
        "            rf_info = calculate_rf_for_layer(module, m_key)\n",
        "            summary[m_key][\"receptive_field\"] = rf_info\n",
        "\n",
        "        if (\n",
        "            not isinstance(module, nn.Sequential)\n",
        "            and not isinstance(module, nn.ModuleList)\n",
        "            and not (module == model)\n",
        "        ):\n",
        "            hooks.append(module.register_forward_hook(hook))\n",
        "\n",
        "    # Initialize RF tracking\n",
        "    current_rf = 1\n",
        "    current_jump = 1\n",
        "    current_size = input_size[1] if isinstance(input_size, (tuple, list)) and len(input_size) > 1 else input_size[0] if isinstance(input_size, (tuple, list)) else 28\n",
        "    original_input_size = current_size  # Keep track of original input size\n",
        "\n",
        "    def calculate_rf_for_layer(module, layer_name):\n",
        "        nonlocal current_rf, current_jump, current_size\n",
        "        \n",
        "        if isinstance(module, nn.Conv2d):\n",
        "            kernel_size = module.kernel_size[0] if isinstance(module.kernel_size, tuple) else module.kernel_size\n",
        "            stride = module.stride[0] if isinstance(module.stride, tuple) else module.stride\n",
        "            padding = module.padding[0] if isinstance(module.padding, tuple) else module.padding\n",
        "            \n",
        "            # Store old values for debug\n",
        "            old_size = current_size\n",
        "            old_rf = current_rf\n",
        "            old_jump = current_jump\n",
        "            \n",
        "            # Calculate output size: Nout = 1 + (Nin + 2*p - k)/s\n",
        "            new_size = 1 + (current_size + 2 * padding - kernel_size) // stride\n",
        "            \n",
        "            # Calculate new RF: RFout = RFin + (k-1) * Jin\n",
        "            new_rf = current_rf + (kernel_size - 1) * current_jump\n",
        "            \n",
        "            # Calculate new Jump: Jout = s * Jin\n",
        "            new_jump = stride * current_jump\n",
        "            \n",
        "            if debug:\n",
        "                print(f\"\\n[DEBUG] {layer_name} (Conv2d):\")\n",
        "                print(f\"  Nin={old_size}, Nout={new_size}, k={kernel_size}, s={stride}, p={padding}\")\n",
        "                print(f\"  Jin={old_jump}, Jout={new_jump}\")\n",
        "                print(f\"  Rin={old_rf}, Rout={new_rf}\")\n",
        "                print(f\"  Formula: Nout = 1 + ({old_size} + 2*{padding} - {kernel_size})/{stride} = {new_size}\")\n",
        "                print(f\"  Formula: Rout = {old_rf} + ({kernel_size}-1)*{old_jump} = {new_rf}\")\n",
        "                print(f\"  Formula: Jout = {stride}*{old_jump} = {new_jump}\")\n",
        "            \n",
        "            current_size = new_size\n",
        "            current_rf = new_rf\n",
        "            current_jump = new_jump\n",
        "            \n",
        "            return new_rf\n",
        "            \n",
        "        elif isinstance(module, nn.MaxPool2d):\n",
        "            kernel_size = module.kernel_size\n",
        "            stride = module.stride if module.stride is not None else kernel_size\n",
        "            padding = module.padding\n",
        "            \n",
        "            # Store old values for debug\n",
        "            old_size = current_size\n",
        "            old_rf = current_rf\n",
        "            old_jump = current_jump\n",
        "            \n",
        "            # Calculate output size: Nout = 1 + (Nin + 2*p - k)/s\n",
        "            new_size = 1 + (current_size + 2 * padding - kernel_size) // stride\n",
        "            \n",
        "            # Calculate new RF: RFout = RFin + (k-1) * Jin\n",
        "            new_rf = current_rf + (kernel_size - 1) * current_jump\n",
        "            \n",
        "            # Calculate new Jump: Jout = s * Jin\n",
        "            new_jump = stride * current_jump\n",
        "            \n",
        "            if debug:\n",
        "                print(f\"\\n[DEBUG] {layer_name} (MaxPool2d):\")\n",
        "                print(f\"  Nin={old_size}, Nout={new_size}, k={kernel_size}, s={stride}, p={padding}\")\n",
        "                print(f\"  Jin={old_jump}, Jout={new_jump}\")\n",
        "                print(f\"  Rin={old_rf}, Rout={new_rf}\")\n",
        "                print(f\"  Formula: Nout = 1 + ({old_size} + 2*{padding} - {kernel_size})/{stride} = {new_size}\")\n",
        "                print(f\"  Formula: Rout = {old_rf} + ({kernel_size}-1)*{old_jump} = {new_rf}\")\n",
        "                print(f\"  Formula: Jout = {stride}*{old_jump} = {new_jump}\")\n",
        "            \n",
        "            current_size = new_size\n",
        "            current_rf = new_rf\n",
        "            current_jump = new_jump\n",
        "            \n",
        "            return new_rf\n",
        "            \n",
        "        elif isinstance(module, nn.AdaptiveAvgPool2d):\n",
        "            # FIXED: Properly handle AdaptiveAvgPool2d\n",
        "            output_size = module.output_size\n",
        "            \n",
        "            # Store old values for debug\n",
        "            old_size = current_size\n",
        "            old_rf = current_rf\n",
        "            old_jump = current_jump\n",
        "            \n",
        "            # Check if it's global pooling (output size is 1x1)\n",
        "            if (isinstance(output_size, int) and output_size == 1) or \\\n",
        "               (isinstance(output_size, (tuple, list)) and output_size[0] == 1 and output_size[1] == 1):\n",
        "                # Global Average Pooling - RF becomes the entire feature map\n",
        "                # The RF now covers the entire spatial dimension\n",
        "                global_rf = f\"GLOBAL({current_size}x{current_size})\"\n",
        "                \n",
        "                if debug:\n",
        "                    print(f\"\\n[DEBUG] {layer_name} (AdaptiveAvgPool2d - Global):\")\n",
        "                    print(f\"  Nin={old_size}, Nout=1, k={old_size} (adaptive), s={old_size}, p=0\")\n",
        "                    print(f\"  Jin={old_jump}, Jout=1 (global pooling)\")\n",
        "                    print(f\"  Rin={old_rf}, Rout=GLOBAL({old_size}x{old_size})\")\n",
        "                    print(f\"  Note: Global Average Pooling - each output sees entire {old_size}x{old_size} feature map\")\n",
        "                    print(f\"  Effective RF in original input space: {original_input_size}x{original_input_size}\")\n",
        "                \n",
        "                current_size = 1\n",
        "                # For subsequent layers, we'll track that RF is global\n",
        "                current_rf = original_input_size  # Use original input size as effective RF\n",
        "                current_jump = 1  # Jump doesn't matter after global pooling\n",
        "                return global_rf\n",
        "            else:\n",
        "                # For other adaptive pool sizes, calculate approximate RF\n",
        "                # This is a simplification - actual RF depends on input/output ratio\n",
        "                if isinstance(output_size, int):\n",
        "                    out_h = out_w = output_size\n",
        "                else:\n",
        "                    out_h, out_w = output_size\n",
        "                \n",
        "                # Approximate kernel size based on input/output ratio\n",
        "                approx_kernel_h = current_size // out_h\n",
        "                approx_kernel_w = current_size // out_w\n",
        "                approx_kernel = max(approx_kernel_h, approx_kernel_w)\n",
        "                \n",
        "                # Update RF based on approximate kernel\n",
        "                new_rf = current_rf + (approx_kernel - 1) * current_jump\n",
        "                \n",
        "                if debug:\n",
        "                    print(f\"\\n[DEBUG] {layer_name} (AdaptiveAvgPool2d):\")\n",
        "                    print(f\"  Nin={old_size}, Nout={out_h}, k≈{approx_kernel} (adaptive), s≈{approx_kernel}, p=0\")\n",
        "                    print(f\"  Jin={old_jump}, Jout={old_jump}\")\n",
        "                    print(f\"  Rin={old_rf}, Rout={new_rf}\")\n",
        "                    print(f\"  Note: Non-global adaptive pooling to {out_h}x{out_w}\")\n",
        "                \n",
        "                current_size = out_h  # Assuming square output\n",
        "                current_rf = new_rf\n",
        "                \n",
        "                return new_rf\n",
        "                \n",
        "        elif isinstance(module, (nn.BatchNorm2d, nn.Dropout, nn.ReLU)):\n",
        "            # These layers don't change receptive field\n",
        "            if debug:\n",
        "                print(f\"\\n[DEBUG] {layer_name} ({module.__class__.__name__}):\")\n",
        "                print(f\"  No change in RF: Nin={current_size}, Nout={current_size}\")\n",
        "                print(f\"  Jin={current_jump}, Jout={current_jump}\")\n",
        "                print(f\"  Rin={current_rf}, Rout={current_rf}\")\n",
        "            return current_rf\n",
        "            \n",
        "        elif isinstance(module, nn.Linear):\n",
        "            # Linear layers typically come after flattening, RF stays the same\n",
        "            if debug:\n",
        "                print(f\"\\n[DEBUG] {layer_name} (Linear):\")\n",
        "                print(f\"  After flattening - RF stays at {current_rf}\")\n",
        "            return current_rf\n",
        "            \n",
        "        else:\n",
        "            # For unknown layers, assume RF doesn't change\n",
        "            if debug:\n",
        "                print(f\"\\n[DEBUG] {layer_name} ({module.__class__.__name__}):\")\n",
        "                print(f\"  Unknown layer type - RF unchanged at {current_rf}\")\n",
        "            return current_rf\n",
        "\n",
        "    # Check device\n",
        "    device = device.type\n",
        "    assert device in [\n",
        "        \"cuda\",\n",
        "        \"cpu\",\n",
        "    ], \"Input device is not valid, please specify 'cuda' or 'cpu'\"\n",
        "\n",
        "    if device == \"cuda\" and torch.cuda.is_available():\n",
        "        dtype = torch.cuda.FloatTensor\n",
        "    else:\n",
        "        dtype = torch.FloatTensor\n",
        "\n",
        "    # Multiple inputs to the network\n",
        "    if isinstance(input_size, tuple):\n",
        "        input_size = [input_size]\n",
        "    if isinstance(input_size[0], (list, tuple)):\n",
        "        input_size = input_size\n",
        "    else:\n",
        "        input_size = [input_size]\n",
        "\n",
        "    # Batch_size of 2 for batchnorm\n",
        "    x = [torch.rand(2, *in_size).type(dtype) for in_size in input_size]\n",
        "\n",
        "    # Create properties\n",
        "    summary = OrderedDict()\n",
        "    hooks = []\n",
        "\n",
        "    # Register hook\n",
        "    model.apply(register_hook)\n",
        "\n",
        "    # Make a forward pass\n",
        "    model(*x)\n",
        "\n",
        "    # Remove these hooks\n",
        "    for h in hooks:\n",
        "        h.remove()\n",
        "\n",
        "    # Print summary\n",
        "    if debug:\n",
        "        print(\"\\n\" + \"=\" * 80)\n",
        "        print(\"DEBUG MODE: Detailed RF Calculations Complete\")\n",
        "        print(\"=\" * 80 + \"\\n\")\n",
        "    \n",
        "    print(\"=\" * 80)\n",
        "    line_new = \"{:>25}  {:>25} {:>15} {:>15}\".format(\n",
        "        \"Layer (type)\", \"Output Shape\", \"Param #\", \"RF\"\n",
        "    )\n",
        "    print(line_new)\n",
        "    print(\"=\" * 80)\n",
        "    \n",
        "    total_params = 0\n",
        "    total_output = 0\n",
        "    trainable_params = 0\n",
        "    \n",
        "    for layer in summary:\n",
        "        # Input_shape, output_shape, trainable, nb_params\n",
        "        rf_display = str(summary[layer][\"receptive_field\"])\n",
        "        line_new = \"{:>25}  {:>25} {:>15} {:>15}\".format(\n",
        "            layer,\n",
        "            str(summary[layer][\"output_shape\"]),\n",
        "            \"{0:,}\".format(summary[layer][\"nb_params\"]),\n",
        "            rf_display,\n",
        "        )\n",
        "        total_params += summary[layer][\"nb_params\"]\n",
        "\n",
        "        total_output_size = abs(np.prod(summary[layer][\"output_shape\"]))\n",
        "        total_output += total_output_size\n",
        "\n",
        "        if \"trainable\" in summary[layer]:\n",
        "            if summary[layer][\"trainable\"] == True:\n",
        "                trainable_params += summary[layer][\"nb_params\"]\n",
        "        print(line_new)\n",
        "\n",
        "    # Assume 4 bytes/number (float on cuda).\n",
        "    total_input_size = abs(np.prod(sum(input_size, ())))\n",
        "    total_output_size = abs(2.0 * total_output * 4.0 / (1024 ** 2.0))  # x2 for gradients\n",
        "    total_params_size = abs(total_params * 4.0 / (1024 ** 2.0))\n",
        "    total_input_size = abs(total_input_size * 4.0 / (1024 ** 2.0))\n",
        "\n",
        "    print(\"=\" * 80)\n",
        "    print(\"Total params: {0:,}\".format(total_params))\n",
        "    print(\"Trainable params: {0:,}\".format(trainable_params))\n",
        "    print(\"Non-trainable params: {0:,}\".format(total_params - trainable_params))\n",
        "    print(\"-\" * 80)\n",
        "    print(\"Input size (MB): %0.2f\" % total_input_size)\n",
        "    print(\"Forward/backward pass size (MB): %0.2f\" % total_output_size)\n",
        "    print(\"Params size (MB): %0.2f\" % total_params_size)\n",
        "    print(\"Estimated Total Size (MB): %0.2f\" % (total_params_size + total_output_size + total_input_size))\n",
        "    print(\"=\" * 80)\n",
        "    # Display final RF\n",
        "    final_rf_display = f\"GLOBAL({original_input_size}x{original_input_size})\" if isinstance(current_rf, int) and current_rf >= original_input_size else str(current_rf)\n",
        "    print(f\"Final Receptive Field: {final_rf_display}\")\n",
        "    print(\"=\" * 80)\n",
        "\n",
        "\n",
        "# Helper function to calculate RF for functional operations\n",
        "def calculate_functional_rf(operation_name, current_rf, current_jump, current_size, **kwargs):\n",
        "    \"\"\"\n",
        "    Calculate RF for functional operations like F.max_pool2d, F.conv2d, etc.\n",
        "    \n",
        "    Args:\n",
        "        operation_name: Name of the operation ('max_pool2d', 'conv2d', etc.)\n",
        "        current_rf: Current receptive field\n",
        "        current_jump: Current jump\n",
        "        current_size: Current spatial size\n",
        "        **kwargs: Operation-specific parameters\n",
        "        \n",
        "    Returns:\n",
        "        tuple: (new_rf, new_jump, new_size)\n",
        "    \"\"\"\n",
        "    \n",
        "    if operation_name == 'max_pool2d':\n",
        "        kernel_size = kwargs.get('kernel_size', 2)\n",
        "        stride = kwargs.get('stride', kernel_size)\n",
        "        padding = kwargs.get('padding', 0)\n",
        "        \n",
        "        # Calculate output size: Nout = 1 + (Nin + 2*p - k)/s\n",
        "        new_size = 1 + (current_size + 2 * padding - kernel_size) // stride\n",
        "        \n",
        "        # Calculate new RF: RFout = RFin + (k-1) * Jin\n",
        "        new_rf = current_rf + (kernel_size - 1) * current_jump\n",
        "        \n",
        "        # Calculate new Jump: Jout = s * Jin\n",
        "        new_jump = stride * current_jump\n",
        "        \n",
        "        return new_rf, new_jump, new_size\n",
        "        \n",
        "    elif operation_name == 'avg_pool2d':\n",
        "        # Same calculation as max_pool2d\n",
        "        return calculate_functional_rf('max_pool2d', current_rf, current_jump, current_size, **kwargs)\n",
        "        \n",
        "    elif operation_name == 'adaptive_avg_pool2d':\n",
        "        # FIXED: Handle adaptive pooling\n",
        "        output_size = kwargs.get('output_size', 1)\n",
        "        \n",
        "        if output_size == 1 or output_size == (1, 1):\n",
        "            # Global pooling - RF becomes the entire feature map\n",
        "            return 'GLOBAL', 1, 1\n",
        "        else:\n",
        "            # For other sizes, approximate\n",
        "            if isinstance(output_size, int):\n",
        "                out_size = output_size\n",
        "            else:\n",
        "                out_size = output_size[0]  # Assuming square\n",
        "            \n",
        "            approx_kernel = current_size // out_size\n",
        "            new_rf = current_rf + (approx_kernel - 1) * current_jump\n",
        "            return new_rf, current_jump, out_size\n",
        "        \n",
        "    elif operation_name in ['relu', 'dropout']:\n",
        "        # These don't change RF\n",
        "        return current_rf, current_jump, current_size\n",
        "        \n",
        "    else:\n",
        "        # Unknown operation, assume no change\n",
        "        return current_rf, current_jump, current_size\n",
        "\n"
      ]
    },
    {
      "cell_type": "markdown",
      "metadata": {
        "id": "ky3f_Odl-7um"
      },
      "source": [
        "## Data Transformations\n",
        "\n",
        "We first start with defining our data transformations. We need to think what our data is and how can we augment it to correct represent images which it might not see otherwise.\n",
        "\n",
        "Here is the list of all the transformations which come pre-built with PyTorch\n",
        "\n",
        "1.   Compose\n",
        "2.   ToTensor\n",
        "3.   ToPILImage\n",
        "4. Normalize\n",
        "5. Resize\n",
        "6. Scale\n",
        "7. CenterCrop\n",
        "8. Pad\n",
        "9. Lambda\n",
        "10. RandomApply\n",
        "11. RandomChoice\n",
        "12. RandomOrder\n",
        "13. RandomCrop\n",
        "14. RandomHorizontalFlip\n",
        "15. RandomVerticalFlip\n",
        "16. RandomResizedCrop\n",
        "17. RandomSizedCrop\n",
        "18. FiveCrop\n",
        "19. TenCrop\n",
        "20. LinearTransformation\n",
        "21. ColorJitter\n",
        "22. RandomRotation\n",
        "23. RandomAffine\n",
        "24. Grayscale\n",
        "25. RandomGrayscale\n",
        "26. RandomPerspective\n",
        "27. RandomErasing\n",
        "\n",
        "You can read more about them [here](https://pytorch.org/vision/stable/transforms.html)"
      ]
    },
    {
      "cell_type": "code",
      "execution_count": 3,
      "metadata": {},
      "outputs": [],
      "source": [
        "class Net(nn.Module):\n",
        "    def __init__(self):\n",
        "        super(Net, self).__init__()\n",
        "        self.conv1 = nn.Conv2d(1, 32, 3, padding=1) # 28>28 | 3\n",
        "        self.conv2 = nn.Conv2d(32, 64, 3, padding=1) # 28 > 28 |  5\n",
        "        self.pool1 = nn.MaxPool2d(2, 2) # 28 > 14 | 10\n",
        "        self.conv3 = nn.Conv2d(64, 128, 3, padding=1) # 14> 14 | 12\n",
        "        self.conv4 = nn.Conv2d(128, 256, 3, padding=1) #14 > 14 | 14\n",
        "        self.pool2 = nn.MaxPool2d(2, 2) # 14 > 7 | 28\n",
        "        self.conv5 = nn.Conv2d(256, 512, 3) # 7 > 5 | 30\n",
        "        self.conv6 = nn.Conv2d(512, 1024, 3) # 5 > 3 | 32 | 3*3*1024 | 3x3x1024x10 |\n",
        "        self.conv7 = nn.Conv2d(1024, 10, 3) # 3 > 1 | 34 | > 1x1x10\n",
        "\n",
        "    def forward(self, x):\n",
        "        x = self.pool1(F.relu(self.conv2(F.relu(self.conv1(x)))))\n",
        "        x = self.pool2(F.relu(self.conv4(F.relu(self.conv3(x)))))\n",
        "        x = F.relu(self.conv6(F.relu(self.conv5(x))))\n",
        "        # x = F.relu(self.conv7(x))\n",
        "        x = self.conv7(x)\n",
        "        x = x.view(-1, 10) #1x1x10> 10\n",
        "        return F.log_softmax(x, dim=-1)"
      ]
    },
    {
      "cell_type": "code",
      "execution_count": 4,
      "metadata": {},
      "outputs": [
        {
          "name": "stdout",
          "output_type": "stream",
          "text": [
            "----------------------------------------------------------------\n",
            "        Layer (type)               Output Shape         Param #\n",
            "================================================================\n",
            "            Conv2d-1           [-1, 32, 28, 28]             320\n",
            "            Conv2d-2           [-1, 64, 28, 28]          18,496\n",
            "         MaxPool2d-3           [-1, 64, 14, 14]               0\n",
            "            Conv2d-4          [-1, 128, 14, 14]          73,856\n",
            "            Conv2d-5          [-1, 256, 14, 14]         295,168\n",
            "         MaxPool2d-6            [-1, 256, 7, 7]               0\n",
            "            Conv2d-7            [-1, 512, 5, 5]       1,180,160\n",
            "            Conv2d-8           [-1, 1024, 3, 3]       4,719,616\n",
            "            Conv2d-9             [-1, 10, 1, 1]          92,170\n",
            "================================================================\n",
            "Total params: 6,379,786\n",
            "Trainable params: 6,379,786\n",
            "Non-trainable params: 0\n",
            "----------------------------------------------------------------\n",
            "Input size (MB): 0.00\n",
            "Forward/backward pass size (MB): 1.51\n",
            "Params size (MB): 24.34\n",
            "Estimated Total Size (MB): 25.85\n",
            "----------------------------------------------------------------\n"
          ]
        }
      ],
      "source": [
        "from torchsummary import summary\n",
        "use_cuda = torch.cuda.is_available()\n",
        "device = torch.device(\"cuda\" if use_cuda else \"cpu\")\n",
        "model = Net().to(device)\n",
        "summary(model, input_size=(1, 28, 28))"
      ]
    },
    {
      "cell_type": "code",
      "execution_count": 17,
      "metadata": {},
      "outputs": [
        {
          "name": "stdout",
          "output_type": "stream",
          "text": [
            "\n",
            "==================================================\n",
            "Enhanced Summary with Receptive Field:\n",
            "==================================================\n",
            "================================================================================\n",
            "             Layer (type)               Output Shape         Param #              RF\n",
            "================================================================================\n",
            "                 Conv2d-1           [-1, 32, 28, 28]             320               3\n",
            "                 Conv2d-2           [-1, 64, 28, 28]          18,496               5\n",
            "              MaxPool2d-3           [-1, 64, 14, 14]               0               6\n",
            "                 Conv2d-4          [-1, 128, 14, 14]          73,856              10\n",
            "                 Conv2d-5          [-1, 256, 14, 14]         295,168              14\n",
            "              MaxPool2d-6            [-1, 256, 7, 7]               0              16\n",
            "                 Conv2d-7            [-1, 512, 5, 5]       1,180,160              24\n",
            "                 Conv2d-8           [-1, 1024, 3, 3]       4,719,616              32\n",
            "                 Conv2d-9             [-1, 10, 1, 1]          92,170              40\n",
            "================================================================================\n",
            "Total params: 6,379,786\n",
            "Trainable params: 6,379,786\n",
            "Non-trainable params: 0\n",
            "--------------------------------------------------------------------------------\n",
            "Input size (MB): 0.00\n",
            "Forward/backward pass size (MB): 1.51\n",
            "Params size (MB): 24.34\n",
            "Estimated Total Size (MB): 25.85\n",
            "================================================================================\n",
            "Final Receptive Field: GLOBAL(28x28)\n",
            "================================================================================\n"
          ]
        }
      ],
      "source": [
        "print(\"\\n\" + \"=\"*50)\n",
        "print(\"Enhanced Summary with Receptive Field:\")\n",
        "print(\"=\"*50)\n",
        "summary_with_rf(model, input_size=(1, 28, 28), device=device, debug=False)"
      ]
    },
    {
      "cell_type": "markdown",
      "metadata": {
        "id": "oQciFYo2B1mO"
      },
      "source": [
        "# Dataset and Creating Train/Test Split"
      ]
    },
    {
      "cell_type": "markdown",
      "metadata": {
        "id": "qgldp_3-Dn0c"
      },
      "source": [
        "# Dataloader Arguments & Test/Train Dataloaders\n"
      ]
    },
    {
      "cell_type": "markdown",
      "metadata": {
        "id": "-TFjoFekE_va"
      },
      "source": [
        "# Data Statistics\n",
        "\n",
        "It is important to know your data very well. Let's check some of the statistics around our data and how it actually looks like"
      ]
    },
    {
      "cell_type": "code",
      "execution_count": 5,
      "metadata": {},
      "outputs": [
        {
          "name": "stdout",
          "output_type": "stream",
          "text": [
            "Training set size: 50000\n",
            "Validation set size: 10000\n"
          ]
        }
      ],
      "source": [
        "import torch\n",
        "from torch.utils.data import random_split\n",
        "from torchvision import datasets, transforms\n",
        "\n",
        "#Enhanced data augmentation pipeline for better generalization\n",
        "\n",
        "train_transform = transforms.Compose([\n",
        "\n",
        "                        transforms.GaussianBlur(kernel_size=5, sigma=(0.1, 2.0)),  # Apply Gaussian Blur\n",
        "                        transforms.RandomRotation(degrees=10), \n",
        "                        transforms.RandomAffine(degrees=5, translate=(0.1,0.1), scale=(0.9, 1.1), shear=5),\n",
        "                        #transforms.RandomPerspective(distortion_scale=0.3, p=0.5),\n",
        "                        #transforms.ColorJitter(brightness=0.2, contrast=0.2),\n",
        "                        transforms.RandomErasing(p=0.5, scale=(0.02, 0.25), ratio=(0.3, 3.3)),\n",
        "                        transforms.ToTensor(), \n",
        "                        transforms.Normalize((0.1307,), (0.3081,))\n",
        "])\n",
        "\n",
        "\n",
        "# Clean validation transforms (no augmentation)\n",
        "val_transform = transforms.Compose([\n",
        "    transforms.ToTensor(),\n",
        "    transforms.Normalize((0.1307,), (0.3081,))\n",
        "])\n",
        "\n",
        "\n",
        "# Load the full training dataset (60K samples)\n",
        "full_train_dataset = datasets.MNIST('../data', train=True, download=True, transform=None)\n",
        "\n",
        "# Split 60K into 50K train + 10K validation\n",
        "train_size = 50000\n",
        "val_size = 10000\n",
        "train_dataset, val_dataset = random_split(full_train_dataset, [train_size, val_size])\n",
        "\n",
        "# Create data loaders\n",
        "batch_size = 128\n",
        "kwargs = {'num_workers': 1, 'pin_memory': True} if use_cuda else {}\n",
        "\n",
        "# Step 4: Apply specific transforms to the train and test datasets\n",
        "# Wrap the datasets with the appropriate transform\n",
        "train_dataset.dataset.transform = train_transform\n",
        "val_dataset.dataset.transform = val_transform\n",
        "\n",
        "train_loader = torch.utils.data.DataLoader(train_dataset, batch_size=batch_size, \n",
        "                                          shuffle=True, **kwargs)\n",
        "\n",
        "val_loader = torch.utils.data.DataLoader(val_dataset, batch_size=batch_size, \n",
        "                                        shuffle=False, **kwargs)\n",
        "\n",
        "print(f\"Training set size: {len(train_dataset)}\")      # 50,000\n",
        "print(f\"Validation set size: {len(val_dataset)}\")      # 10,000"
      ]
    },
    {
      "cell_type": "markdown",
      "metadata": {
        "id": "7l9lNaWYKuik"
      },
      "source": [
        "## MORE\n",
        "\n",
        "It is important that we view as many images as possible. This is required to get some idea on image augmentation later on"
      ]
    },
    {
      "cell_type": "code",
      "execution_count": 10,
      "metadata": {},
      "outputs": [
        {
          "data": {
            "image/png": "[encoded data removed]",
            "text/plain": [
              "<Figure size 432x288 with 60 Axes>"
            ]
          },
          "metadata": {
            "needs_background": "light"
          },
          "output_type": "display_data"
        }
      ],
      "source": [
        "import matplotlib.pyplot as plt\n",
        "dataiter = iter(train_loader)\n",
        "images, labels = next(dataiter)\n",
        "\n",
        "%matplotlib inline\n",
        "import matplotlib.pyplot as plt\n",
        "figure = plt.figure()\n",
        "num_of_images = 60\n",
        "for index in range(1, num_of_images + 1):\n",
        "    plt.subplot(6, 10, index)\n",
        "    plt.axis('off')\n",
        "    plt.imshow(images[index].numpy().squeeze(), cmap='gray_r')"
      ]
    },
    {
      "cell_type": "markdown",
      "metadata": {
        "id": "ubQL3H6RJL3h"
      },
      "source": [
        "# The model\n",
        "Let's start with the model we first saw"
      ]
    },
    {
      "cell_type": "markdown",
      "metadata": {
        "id": "M3-vp8X9LCWo"
      },
      "source": [
        "# Model Params\n",
        "Can't emphasize on how important viewing Model Summary is.\n",
        "Unfortunately, there is no in-built model visualizer, so we have to take external help"
      ]
    },
    {
      "cell_type": "markdown",
      "metadata": {
        "id": "1__x_SbrL7z3"
      },
      "source": [
        "# Training and Testing\n",
        "\n",
        "All right, so we have 6.3M params, and that's too many, we know that. But the purpose of this notebook is to set things right for our future experiments.\n",
        "\n",
        "Looking at logs can be boring, so we'll introduce **tqdm** progressbar to get cooler logs.\n",
        "\n",
        "Let's write train and test functions"
      ]
    },
    {
      "cell_type": "code",
      "execution_count": 11,
      "metadata": {
        "id": "fbkF2nN_LYIb"
      },
      "outputs": [],
      "source": [
        "from tqdm import tqdm\n",
        "\n",
        "train_losses = []\n",
        "test_losses = []\n",
        "train_acc = []\n",
        "test_acc = []\n",
        "\n",
        "def train(model, device, train_loader, optimizer, epoch):\n",
        "  model.train()\n",
        "  pbar = tqdm(train_loader)\n",
        "  correct = 0\n",
        "  processed = 0\n",
        "  for batch_idx, (data, target) in enumerate(pbar):\n",
        "    # get samples\n",
        "    data, target = data.to(device), target.to(device)\n",
        "\n",
        "    # Init\n",
        "    optimizer.zero_grad()\n",
        "    # In PyTorch, we need to set the gradients to zero before starting to do backpropragation because PyTorch accumulates the gradients on subsequent backward passes.\n",
        "    # Because of this, when you start your training loop, ideally you should zero out the gradients so that you do the parameter update correctly.\n",
        "\n",
        "    # Predict\n",
        "    y_pred = model(data)\n",
        "\n",
        "    # Calculate loss\n",
        "    loss = F.nll_loss(y_pred, target)\n",
        "    train_losses.append(loss)\n",
        "\n",
        "    # Backpropagation\n",
        "    loss.backward()\n",
        "    optimizer.step()\n",
        "\n",
        "    # Update pbar-tqdm\n",
        "\n",
        "    pred = y_pred.argmax(dim=1, keepdim=True)  # get the index of the max log-probability\n",
        "    correct += pred.eq(target.view_as(pred)).sum().item()\n",
        "    processed += len(data)\n",
        "\n",
        "    pbar.set_description(desc= f'Loss={loss.item()} Batch_id={batch_idx} Accuracy={100*correct/processed:0.2f}')\n",
        "    train_acc.append(100*correct/processed)\n",
        "\n",
        "def test(model, device, test_loader):\n",
        "    model.eval()\n",
        "    test_loss = 0\n",
        "    correct = 0\n",
        "    with torch.no_grad():\n",
        "        for data, target in test_loader:\n",
        "            data, target = data.to(device), target.to(device)\n",
        "            output = model(data)\n",
        "            test_loss += F.nll_loss(output, target, reduction='sum').item()  # sum up batch loss\n",
        "            pred = output.argmax(dim=1, keepdim=True)  # get the index of the max log-probability\n",
        "            correct += pred.eq(target.view_as(pred)).sum().item()\n",
        "\n",
        "    test_loss /= len(test_loader.dataset)\n",
        "    test_losses.append(test_loss)\n",
        "\n",
        "    print('\\nTest set: Average loss: {:.4f}, Accuracy: {}/{} ({:.2f}%)\\n'.format(\n",
        "        test_loss, correct, len(test_loader.dataset),\n",
        "        100. * correct / len(test_loader.dataset)))\n",
        "\n",
        "    test_acc.append(100. * correct / len(test_loader.dataset))"
      ]
    },
    {
      "cell_type": "markdown",
      "metadata": {
        "id": "drokW8wWODKq"
      },
      "source": [
        "# Let's Train and test our model"
      ]
    },
    {
      "cell_type": "code",
      "execution_count": 13,
      "metadata": {
        "colab": {
          "base_uri": "https://localhost:8080/"
        },
        "id": "xMCFxeAKOB53",
        "outputId": "0cbcfed9-de1c-4f4d-838a-23b0e02a543d"
      },
      "outputs": [
        {
          "name": "stdout",
          "output_type": "stream",
          "text": [
            "EPOCH: 0\n"
          ]
        },
        {
          "name": "stderr",
          "output_type": "stream",
          "text": [
            "Loss=0.07670383155345917 Batch_id=390 Accuracy=79.81: 100%|██████████| 391/391 [00:05<00:00, 70.63it/s] \n"
          ]
        },
        {
          "name": "stdout",
          "output_type": "stream",
          "text": [
            "\n",
            "Test set: Average loss: 0.1019, Accuracy: 9676/10000 (96.76%)\n",
            "\n",
            "EPOCH: 1\n"
          ]
        },
        {
          "name": "stderr",
          "output_type": "stream",
          "text": [
            "Loss=0.01655656285583973 Batch_id=390 Accuracy=97.65: 100%|██████████| 391/391 [00:08<00:00, 45.99it/s] \n"
          ]
        },
        {
          "name": "stdout",
          "output_type": "stream",
          "text": [
            "\n",
            "Test set: Average loss: 0.0659, Accuracy: 9800/10000 (98.00%)\n",
            "\n",
            "EPOCH: 2\n"
          ]
        },
        {
          "name": "stderr",
          "output_type": "stream",
          "text": [
            "Loss=0.03088407590985298 Batch_id=390 Accuracy=98.55: 100%|██████████| 391/391 [00:05<00:00, 72.33it/s]  \n"
          ]
        },
        {
          "name": "stdout",
          "output_type": "stream",
          "text": [
            "\n",
            "Test set: Average loss: 0.0521, Accuracy: 9842/10000 (98.42%)\n",
            "\n",
            "EPOCH: 3\n"
          ]
        },
        {
          "name": "stderr",
          "output_type": "stream",
          "text": [
            "Loss=0.016393478959798813 Batch_id=390 Accuracy=98.86: 100%|██████████| 391/391 [00:08<00:00, 44.31it/s] \n"
          ]
        },
        {
          "name": "stdout",
          "output_type": "stream",
          "text": [
            "\n",
            "Test set: Average loss: 0.0547, Accuracy: 9834/10000 (98.34%)\n",
            "\n",
            "EPOCH: 4\n"
          ]
        },
        {
          "name": "stderr",
          "output_type": "stream",
          "text": [
            "Loss=0.02713693119585514 Batch_id=390 Accuracy=99.09: 100%|██████████| 391/391 [00:08<00:00, 46.64it/s]  \n"
          ]
        },
        {
          "name": "stdout",
          "output_type": "stream",
          "text": [
            "\n",
            "Test set: Average loss: 0.0427, Accuracy: 9866/10000 (98.66%)\n",
            "\n",
            "EPOCH: 5\n"
          ]
        },
        {
          "name": "stderr",
          "output_type": "stream",
          "text": [
            "Loss=0.016682516783475876 Batch_id=390 Accuracy=99.38: 100%|██████████| 391/391 [00:08<00:00, 47.22it/s] \n"
          ]
        },
        {
          "name": "stdout",
          "output_type": "stream",
          "text": [
            "\n",
            "Test set: Average loss: 0.0418, Accuracy: 9876/10000 (98.76%)\n",
            "\n",
            "EPOCH: 6\n"
          ]
        },
        {
          "name": "stderr",
          "output_type": "stream",
          "text": [
            "Loss=0.018451783806085587 Batch_id=390 Accuracy=99.42: 100%|██████████| 391/391 [00:08<00:00, 47.06it/s] \n"
          ]
        },
        {
          "name": "stdout",
          "output_type": "stream",
          "text": [
            "\n",
            "Test set: Average loss: 0.0359, Accuracy: 9897/10000 (98.97%)\n",
            "\n",
            "EPOCH: 7\n"
          ]
        },
        {
          "name": "stderr",
          "output_type": "stream",
          "text": [
            "Loss=0.0017077313968911767 Batch_id=390 Accuracy=99.55: 100%|██████████| 391/391 [00:08<00:00, 47.04it/s]\n"
          ]
        },
        {
          "name": "stdout",
          "output_type": "stream",
          "text": [
            "\n",
            "Test set: Average loss: 0.0470, Accuracy: 9869/10000 (98.69%)\n",
            "\n",
            "EPOCH: 8\n"
          ]
        },
        {
          "name": "stderr",
          "output_type": "stream",
          "text": [
            "Loss=0.0013468586839735508 Batch_id=390 Accuracy=99.67: 100%|██████████| 391/391 [00:08<00:00, 47.86it/s] \n"
          ]
        },
        {
          "name": "stdout",
          "output_type": "stream",
          "text": [
            "\n",
            "Test set: Average loss: 0.0441, Accuracy: 9892/10000 (98.92%)\n",
            "\n",
            "EPOCH: 9\n"
          ]
        },
        {
          "name": "stderr",
          "output_type": "stream",
          "text": [
            "Loss=0.001194534357637167 Batch_id=390 Accuracy=99.67: 100%|██████████| 391/391 [00:08<00:00, 46.91it/s]  \n"
          ]
        },
        {
          "name": "stdout",
          "output_type": "stream",
          "text": [
            "\n",
            "Test set: Average loss: 0.0437, Accuracy: 9886/10000 (98.86%)\n",
            "\n",
            "EPOCH: 10\n"
          ]
        },
        {
          "name": "stderr",
          "output_type": "stream",
          "text": [
            "Loss=0.0016548491548746824 Batch_id=390 Accuracy=99.76: 100%|██████████| 391/391 [00:08<00:00, 45.27it/s] \n"
          ]
        },
        {
          "name": "stdout",
          "output_type": "stream",
          "text": [
            "\n",
            "Test set: Average loss: 0.0438, Accuracy: 9883/10000 (98.83%)\n",
            "\n",
            "EPOCH: 11\n"
          ]
        },
        {
          "name": "stderr",
          "output_type": "stream",
          "text": [
            "Loss=0.000676459283567965 Batch_id=390 Accuracy=99.79: 100%|██████████| 391/391 [00:08<00:00, 46.53it/s]  \n"
          ]
        },
        {
          "name": "stdout",
          "output_type": "stream",
          "text": [
            "\n",
            "Test set: Average loss: 0.0469, Accuracy: 9887/10000 (98.87%)\n",
            "\n",
            "EPOCH: 12\n"
          ]
        },
        {
          "name": "stderr",
          "output_type": "stream",
          "text": [
            "Loss=0.00014028651639819145 Batch_id=390 Accuracy=99.82: 100%|██████████| 391/391 [00:08<00:00, 47.63it/s]\n"
          ]
        },
        {
          "name": "stdout",
          "output_type": "stream",
          "text": [
            "\n",
            "Test set: Average loss: 0.0508, Accuracy: 9889/10000 (98.89%)\n",
            "\n",
            "EPOCH: 13\n"
          ]
        },
        {
          "name": "stderr",
          "output_type": "stream",
          "text": [
            "Loss=0.004916406236588955 Batch_id=390 Accuracy=99.83: 100%|██████████| 391/391 [00:07<00:00, 52.77it/s]  \n"
          ]
        },
        {
          "name": "stdout",
          "output_type": "stream",
          "text": [
            "\n",
            "Test set: Average loss: 0.0480, Accuracy: 9889/10000 (98.89%)\n",
            "\n",
            "EPOCH: 14\n"
          ]
        },
        {
          "name": "stderr",
          "output_type": "stream",
          "text": [
            "Loss=0.000650681322440505 Batch_id=390 Accuracy=99.88: 100%|██████████| 391/391 [00:07<00:00, 49.79it/s]  \n"
          ]
        },
        {
          "name": "stdout",
          "output_type": "stream",
          "text": [
            "\n",
            "Test set: Average loss: 0.0585, Accuracy: 9880/10000 (98.80%)\n",
            "\n"
          ]
        }
      ],
      "source": [
        "model =  Net().to(device)\n",
        "optimizer = optim.SGD(model.parameters(), lr=0.01, momentum=0.9)\n",
        "EPOCHS = 15\n",
        "for epoch in range(EPOCHS):\n",
        "    print(\"EPOCH:\", epoch)\n",
        "    train(model, device, train_loader, optimizer, epoch)\n",
        "    test(model, device, val_loader)"
      ]
    },
    {
      "cell_type": "code",
      "execution_count": 14,
      "metadata": {
        "id": "BnfNrAmKl5Tc"
      },
      "outputs": [],
      "source": [
        "t = [t_items.item() for t_items in train_losses]"
      ]
    },
    {
      "cell_type": "code",
      "execution_count": 15,
      "metadata": {
        "colab": {
          "base_uri": "https://localhost:8080/",
          "height": 742
        },
        "id": "87RaqGSEOWDe",
        "outputId": "897f73d1-5b6b-4130-c56c-9203c808fdab"
      },
      "outputs": [
        {
          "data": {
            "text/plain": [
              "Text(0.5, 1.0, 'Test Accuracy')"
            ]
          },
          "execution_count": 15,
          "metadata": {},
          "output_type": "execute_result"
        },
        {
          "data": {
            "image/png": "[encoded data removed]",
            "text/plain": [
              "<Figure size 1080x720 with 4 Axes>"
            ]
          },
          "metadata": {
            "needs_background": "light"
          },
          "output_type": "display_data"
        }
      ],
      "source": [
        "fig, axs = plt.subplots(2,2,figsize=(15,10))\n",
        "axs[0, 0].plot(t)\n",
        "axs[0, 0].set_title(\"Training Loss\")\n",
        "axs[1, 0].plot(train_acc)\n",
        "axs[1, 0].set_title(\"Training Accuracy\")\n",
        "axs[0, 1].plot(test_losses)\n",
        "axs[0, 1].set_title(\"Test Loss\")\n",
        "axs[1, 1].plot(test_acc)\n",
        "axs[1, 1].set_title(\"Test Accuracy\")"
      ]
    },
    {
      "cell_type": "code",
      "execution_count": null,
      "metadata": {
        "id": "odozjbIvY12p"
      },
      "outputs": [],
      "source": []
    }
  ],
  "metadata": {
    "accelerator": "GPU",
    "colab": {
      "gpuType": "T4",
      "provenance": []
    },
    "kernelspec": {
      "display_name": "Python 3 with Fil",
      "language": "python",
      "name": "filprofile"
    },
    "language_info": {
      "codemirror_mode": {
        "name": "ipython",
        "version": 3
      },
      "file_extension": ".py",
      "mimetype": "text/x-python",
      "name": "python",
      "nbconvert_exporter": "python",
      "pygments_lexer": "ipython3",
      "version": "3.9.7"
    }
  },
  "nbformat": 4,
  "nbformat_minor": 0
}
