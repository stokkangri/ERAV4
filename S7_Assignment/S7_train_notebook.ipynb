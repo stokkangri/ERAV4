{
 "cells": [
  {
   "cell_type": "code",
   "execution_count": 19,
   "metadata": {},
   "outputs": [
    {
     "name": "stdout",
     "output_type": "stream",
     "text": [
      "Files already downloaded and verified\n"
     ]
    },
    {
     "name": "stderr",
     "output_type": "stream",
     "text": [
      "/home/xpz1/tsai_work/ERAV4/S7_Assignment/transforms.py:51: UserWarning: Argument 'fill_value' is not valid and will be ignored.\n",
      "  A.CoarseDropout(max_holes=1, max_height=8, max_width=8, min_height=4, min_width=4, fill_value=0, mask_fill_value=None, p=0.5),\n",
      "/home/xpz1/tsai_work/ERAV4/S7_Assignment/transforms.py:51: UserWarning: Argument 'mask_fill_value' is not valid and will be ignored.\n",
      "  A.CoarseDropout(max_holes=1, max_height=8, max_width=8, min_height=4, min_width=4, fill_value=0, mask_fill_value=None, p=0.5),\n"
     ]
    },
    {
     "name": "stdout",
     "output_type": "stream",
     "text": [
      "Files already downloaded and verified\n",
      "Files already downloaded and verified\n",
      "Files already downloaded and verified\n",
      "Shape of the batch - torch.Size([128, 3, 32, 32])\n",
      "Total images in the batch - 128\n"
     ]
    }
   ],
   "source": [
    "import torch\n",
    "import torch.nn as nn\n",
    "from torchsummary import summary\n",
    "from model import Net\n",
    "from dataset import DatasetLoader\n",
    "from tqdm import tqdm\n",
    "import torch.optim as optim\n",
    "import torch.nn.functional as F\n",
    "\n",
    "from torch.optim.lr_scheduler import StepLR\n",
    "from func_train_test import train, test\n",
    "from rf_calculator import summary_with_rf\n",
    "\n",
    "get_data = DatasetLoader(batch_size=128)\n",
    "\n",
    "train_loader = get_data.train_loader()\n",
    "test_loader = get_data.test_loader()\n",
    "\n",
    "# Analyze the first batch of 512 images\n",
    "images, labels = next(iter(train_loader))\n",
    "print(f'Shape of the batch - {images.shape}')\n",
    "print(f'Total images in the batch - {len(labels)}')\n",
    "\n",
    "classes = ('plane', 'car', 'bird', 'cat',\n",
    "           'deer', 'dog', 'frog', 'horse', 'ship', 'truck')\n",
    "\n",
    "\n",
    "\n",
    "\n"
   ]
  },
  {
   "cell_type": "code",
   "execution_count": 20,
   "metadata": {},
   "outputs": [
    {
     "name": "stdout",
     "output_type": "stream",
     "text": [
      "Cuda available ###### True\n",
      "cuda\n",
      "----------------------------------------------------------------\n",
      "        Layer (type)               Output Shape         Param #\n",
      "================================================================\n",
      "            Conv2d-1           [-1, 16, 32, 32]             432\n",
      "              ReLU-2           [-1, 16, 32, 32]               0\n",
      "       BatchNorm2d-3           [-1, 16, 32, 32]              32\n",
      "            Conv2d-4           [-1, 32, 32, 32]           4,608\n",
      "              ReLU-5           [-1, 32, 32, 32]               0\n",
      "       BatchNorm2d-6           [-1, 32, 32, 32]              64\n",
      "            Conv2d-7           [-1, 64, 32, 32]          18,432\n",
      "              ReLU-8           [-1, 64, 32, 32]               0\n",
      "       BatchNorm2d-9           [-1, 64, 32, 32]             128\n",
      "           Conv2d-10           [-1, 64, 32, 32]             576\n",
      "           Conv2d-11           [-1, 64, 32, 32]           4,096\n",
      "             ReLU-12           [-1, 64, 32, 32]               0\n",
      "      BatchNorm2d-13           [-1, 64, 32, 32]             128\n",
      "          Dropout-14           [-1, 64, 32, 32]               0\n",
      "           Conv2d-15           [-1, 64, 32, 32]           1,024\n",
      "           Conv2d-16           [-1, 64, 16, 16]           4,096\n",
      "           Conv2d-17           [-1, 64, 16, 16]          36,864\n",
      "             ReLU-18           [-1, 64, 16, 16]               0\n",
      "      BatchNorm2d-19           [-1, 64, 16, 16]             128\n",
      "           Conv2d-20           [-1, 64, 16, 16]             576\n",
      "           Conv2d-21           [-1, 64, 16, 16]           4,096\n",
      "             ReLU-22           [-1, 64, 16, 16]               0\n",
      "      BatchNorm2d-23           [-1, 64, 16, 16]             128\n",
      "          Dropout-24           [-1, 64, 16, 16]               0\n",
      "           Conv2d-25           [-1, 64, 16, 16]           4,096\n",
      "           Conv2d-26             [-1, 64, 8, 8]           4,096\n",
      "           Conv2d-27             [-1, 64, 8, 8]          36,864\n",
      "             ReLU-28             [-1, 64, 8, 8]               0\n",
      "      BatchNorm2d-29             [-1, 64, 8, 8]             128\n",
      "           Conv2d-30             [-1, 64, 8, 8]             576\n",
      "           Conv2d-31             [-1, 64, 8, 8]           4,096\n",
      "             ReLU-32             [-1, 64, 8, 8]               0\n",
      "      BatchNorm2d-33             [-1, 64, 8, 8]             128\n",
      "          Dropout-34             [-1, 64, 8, 8]               0\n",
      "           Conv2d-35             [-1, 64, 8, 8]           4,096\n",
      "           Conv2d-36             [-1, 64, 4, 4]           4,096\n",
      "           Conv2d-37             [-1, 64, 4, 4]          36,864\n",
      "             ReLU-38             [-1, 64, 4, 4]               0\n",
      "      BatchNorm2d-39             [-1, 64, 4, 4]             128\n",
      "          Dropout-40             [-1, 64, 4, 4]               0\n",
      "           Conv2d-41             [-1, 64, 4, 4]           4,096\n",
      "      BatchNorm2d-42             [-1, 64, 4, 4]             128\n",
      "           Conv2d-43             [-1, 64, 4, 4]             576\n",
      "           Conv2d-44             [-1, 64, 4, 4]           4,096\n",
      "AdaptiveAvgPool2d-45             [-1, 64, 1, 1]               0\n",
      "           Linear-46                   [-1, 10]             640\n",
      "================================================================\n",
      "Total params: 180,112\n",
      "Trainable params: 180,112\n",
      "Non-trainable params: 0\n",
      "----------------------------------------------------------------\n",
      "Input size (MB): 0.01\n",
      "Forward/backward pass size (MB): 7.26\n",
      "Params size (MB): 0.69\n",
      "Estimated Total Size (MB): 7.96\n",
      "----------------------------------------------------------------\n",
      "================================================================================\n",
      "             Layer (type)               Output Shape         Param #              RF\n",
      "================================================================================\n",
      "                 Conv2d-1           [-1, 16, 32, 32]             432               3\n",
      "                   ReLU-2           [-1, 16, 32, 32]               0               3\n",
      "            BatchNorm2d-3           [-1, 16, 32, 32]              32               3\n",
      "                 Conv2d-4           [-1, 32, 32, 32]           4,608               5\n",
      "                   ReLU-5           [-1, 32, 32, 32]               0               5\n",
      "            BatchNorm2d-6           [-1, 32, 32, 32]              64               5\n",
      "                 Conv2d-7           [-1, 64, 32, 32]          18,432               7\n",
      "                   ReLU-8           [-1, 64, 32, 32]               0               7\n",
      "            BatchNorm2d-9           [-1, 64, 32, 32]             128               7\n",
      "                Conv2d-10           [-1, 64, 32, 32]             576               9\n",
      "                Conv2d-11           [-1, 64, 32, 32]           4,096               9\n",
      "                  ReLU-12           [-1, 64, 32, 32]               0               9\n",
      "           BatchNorm2d-13           [-1, 64, 32, 32]             128               9\n",
      "               Dropout-14           [-1, 64, 32, 32]               0               9\n",
      "                Conv2d-15           [-1, 64, 32, 32]           1,024               9\n",
      "                Conv2d-16           [-1, 64, 16, 16]           4,096               9\n",
      "                Conv2d-17           [-1, 64, 16, 16]          36,864              13\n",
      "                  ReLU-18           [-1, 64, 16, 16]               0              13\n",
      "           BatchNorm2d-19           [-1, 64, 16, 16]             128              13\n",
      "                Conv2d-20           [-1, 64, 16, 16]             576              17\n",
      "                Conv2d-21           [-1, 64, 16, 16]           4,096              17\n",
      "                  ReLU-22           [-1, 64, 16, 16]               0              17\n",
      "           BatchNorm2d-23           [-1, 64, 16, 16]             128              17\n",
      "               Dropout-24           [-1, 64, 16, 16]               0              17\n",
      "                Conv2d-25           [-1, 64, 16, 16]           4,096              17\n",
      "                Conv2d-26             [-1, 64, 8, 8]           4,096              17\n",
      "                Conv2d-27             [-1, 64, 8, 8]          36,864              25\n",
      "                  ReLU-28             [-1, 64, 8, 8]               0              25\n",
      "           BatchNorm2d-29             [-1, 64, 8, 8]             128              25\n",
      "                Conv2d-30             [-1, 64, 8, 8]             576              33\n",
      "                Conv2d-31             [-1, 64, 8, 8]           4,096              33\n",
      "                  ReLU-32             [-1, 64, 8, 8]               0              33\n",
      "           BatchNorm2d-33             [-1, 64, 8, 8]             128              33\n",
      "               Dropout-34             [-1, 64, 8, 8]               0              33\n",
      "                Conv2d-35             [-1, 64, 8, 8]           4,096              33\n",
      "                Conv2d-36             [-1, 64, 4, 4]           4,096              33\n",
      "                Conv2d-37             [-1, 64, 4, 4]          36,864              49\n",
      "                  ReLU-38             [-1, 64, 4, 4]               0              49\n",
      "           BatchNorm2d-39             [-1, 64, 4, 4]             128              49\n",
      "               Dropout-40             [-1, 64, 4, 4]               0              49\n",
      "                Conv2d-41             [-1, 64, 4, 4]           4,096              49\n",
      "           BatchNorm2d-42             [-1, 64, 4, 4]             128              49\n",
      "                Conv2d-43             [-1, 64, 4, 4]             576              65\n",
      "                Conv2d-44             [-1, 64, 4, 4]           4,096              65\n",
      "     AdaptiveAvgPool2d-45             [-1, 64, 1, 1]               0     GLOBAL(5x5)\n",
      "                Linear-46                   [-1, 10]             640              97\n",
      "================================================================================\n",
      "Total params: 180,112\n",
      "Trainable params: 180,112\n",
      "Non-trainable params: 0\n",
      "--------------------------------------------------------------------------------\n",
      "Input size (MB): 0.01\n",
      "Forward/backward pass size (MB): 7.26\n",
      "Params size (MB): 0.69\n",
      "Estimated Total Size (MB): 7.96\n",
      "================================================================================\n",
      "Final Receptive Field: GLOBAL(32x32)\n",
      "================================================================================\n"
     ]
    }
   ],
   "source": [
    "use_cuda = torch.cuda.is_available()\n",
    "print(f\"Cuda available ###### {use_cuda}\")\n",
    "device = torch.device(\"cuda\" if use_cuda else \"cpu\")\n",
    "print(device)\n",
    "model = Net().to(device)\n",
    "summary(model, input_size=(3, 32, 32))\n",
    "summary_with_rf(model, input_size=(3, 32, 32))"
   ]
  },
  {
   "cell_type": "code",
   "execution_count": 25,
   "metadata": {},
   "outputs": [
    {
     "name": "stdout",
     "output_type": "stream",
     "text": [
      "EPOCH: 0\n"
     ]
    },
    {
     "name": "stderr",
     "output_type": "stream",
     "text": [
      "Epoch=0 LR=0.00505 Avg Training loss=1.6221 Batch Loss=1.2988 Batch_id=390, Acc=39.75: 100%|██████████| 391/391 [00:06<00:00, 64.60it/s]\n"
     ]
    },
    {
     "name": "stdout",
     "output_type": "stream",
     "text": [
      "\n",
      "Test set: Average loss: 1.3513, Accuracy: 50.55%\n",
      "\n",
      "EPOCH: 1\n"
     ]
    },
    {
     "name": "stderr",
     "output_type": "stream",
     "text": [
      "Epoch=1 LR=0.00815 Avg Training loss=1.2904 Batch Loss=1.0019 Batch_id=390, Acc=52.94: 100%|██████████| 391/391 [00:06<00:00, 64.01it/s]\n"
     ]
    },
    {
     "name": "stdout",
     "output_type": "stream",
     "text": [
      "\n",
      "Test set: Average loss: 1.2230, Accuracy: 56.40%\n",
      "\n",
      "EPOCH: 2\n"
     ]
    },
    {
     "name": "stderr",
     "output_type": "stream",
     "text": [
      "Epoch=2 LR=0.01317 Avg Training loss=1.1312 Batch Loss=0.9861 Batch_id=390, Acc=59.38: 100%|██████████| 391/391 [00:05<00:00, 65.31it/s]\n"
     ]
    },
    {
     "name": "stdout",
     "output_type": "stream",
     "text": [
      "\n",
      "Test set: Average loss: 1.0318, Accuracy: 63.90%\n",
      "\n",
      "EPOCH: 3\n"
     ]
    },
    {
     "name": "stderr",
     "output_type": "stream",
     "text": [
      "Epoch=3 LR=0.01989 Avg Training loss=1.0101 Batch Loss=0.9262 Batch_id=390, Acc=63.90: 100%|██████████| 391/391 [00:05<00:00, 65.22it/s]\n"
     ]
    },
    {
     "name": "stdout",
     "output_type": "stream",
     "text": [
      "\n",
      "Test set: Average loss: 0.8781, Accuracy: 68.50%\n",
      "\n",
      "EPOCH: 4\n"
     ]
    },
    {
     "name": "stderr",
     "output_type": "stream",
     "text": [
      "Epoch=4 LR=0.02801 Avg Training loss=0.9131 Batch Loss=0.8819 Batch_id=390, Acc=67.80: 100%|██████████| 391/391 [00:06<00:00, 64.42it/s]\n"
     ]
    },
    {
     "name": "stdout",
     "output_type": "stream",
     "text": [
      "\n",
      "Test set: Average loss: 0.8341, Accuracy: 71.08%\n",
      "\n",
      "EPOCH: 5\n"
     ]
    },
    {
     "name": "stderr",
     "output_type": "stream",
     "text": [
      "Epoch=5 LR=0.03718 Avg Training loss=0.8496 Batch Loss=0.9776 Batch_id=390, Acc=70.25: 100%|██████████| 391/391 [00:06<00:00, 64.43it/s]\n"
     ]
    },
    {
     "name": "stdout",
     "output_type": "stream",
     "text": [
      "\n",
      "Test set: Average loss: 0.7971, Accuracy: 71.89%\n",
      "\n",
      "EPOCH: 6\n"
     ]
    },
    {
     "name": "stderr",
     "output_type": "stream",
     "text": [
      "Epoch=6 LR=0.04699 Avg Training loss=0.8046 Batch Loss=0.7656 Batch_id=390, Acc=71.68: 100%|██████████| 391/391 [00:05<00:00, 65.34it/s]\n"
     ]
    },
    {
     "name": "stdout",
     "output_type": "stream",
     "text": [
      "\n",
      "Test set: Average loss: 0.7421, Accuracy: 74.94%\n",
      "\n",
      "EPOCH: 7\n"
     ]
    },
    {
     "name": "stderr",
     "output_type": "stream",
     "text": [
      "Epoch=7 LR=0.05703 Avg Training loss=0.7633 Batch Loss=0.9081 Batch_id=390, Acc=73.19: 100%|██████████| 391/391 [00:05<00:00, 65.24it/s]\n"
     ]
    },
    {
     "name": "stdout",
     "output_type": "stream",
     "text": [
      "\n",
      "Test set: Average loss: 0.7362, Accuracy: 75.13%\n",
      "\n",
      "EPOCH: 8\n"
     ]
    },
    {
     "name": "stderr",
     "output_type": "stream",
     "text": [
      "Epoch=8 LR=0.06685 Avg Training loss=0.7243 Batch Loss=0.6929 Batch_id=390, Acc=74.68: 100%|██████████| 391/391 [00:06<00:00, 65.06it/s]\n"
     ]
    },
    {
     "name": "stdout",
     "output_type": "stream",
     "text": [
      "\n",
      "Test set: Average loss: 0.7127, Accuracy: 76.11%\n",
      "\n",
      "EPOCH: 9\n"
     ]
    },
    {
     "name": "stderr",
     "output_type": "stream",
     "text": [
      "Epoch=9 LR=0.07601 Avg Training loss=0.6965 Batch Loss=0.6055 Batch_id=390, Acc=75.80: 100%|██████████| 391/391 [00:06<00:00, 64.51it/s]\n"
     ]
    },
    {
     "name": "stdout",
     "output_type": "stream",
     "text": [
      "\n",
      "Test set: Average loss: 0.6862, Accuracy: 76.62%\n",
      "\n",
      "EPOCH: 10\n"
     ]
    },
    {
     "name": "stderr",
     "output_type": "stream",
     "text": [
      "Epoch=10 LR=0.08413 Avg Training loss=0.6749 Batch Loss=0.6714 Batch_id=390, Acc=76.59: 100%|██████████| 391/391 [00:06<00:00, 64.68it/s]\n"
     ]
    },
    {
     "name": "stdout",
     "output_type": "stream",
     "text": [
      "\n",
      "Test set: Average loss: 0.6515, Accuracy: 78.37%\n",
      "\n",
      "EPOCH: 11\n"
     ]
    },
    {
     "name": "stderr",
     "output_type": "stream",
     "text": [
      "Epoch=11 LR=0.09084 Avg Training loss=0.6473 Batch Loss=0.5175 Batch_id=390, Acc=77.40: 100%|██████████| 391/391 [00:06<00:00, 64.33it/s]\n"
     ]
    },
    {
     "name": "stdout",
     "output_type": "stream",
     "text": [
      "\n",
      "Test set: Average loss: 0.6081, Accuracy: 79.33%\n",
      "\n",
      "EPOCH: 12\n"
     ]
    },
    {
     "name": "stderr",
     "output_type": "stream",
     "text": [
      "Epoch=12 LR=0.09586 Avg Training loss=0.6275 Batch Loss=0.7326 Batch_id=390, Acc=78.19: 100%|██████████| 391/391 [00:06<00:00, 64.86it/s]\n"
     ]
    },
    {
     "name": "stdout",
     "output_type": "stream",
     "text": [
      "\n",
      "Test set: Average loss: 0.6018, Accuracy: 79.26%\n",
      "\n",
      "EPOCH: 13\n"
     ]
    },
    {
     "name": "stderr",
     "output_type": "stream",
     "text": [
      "Epoch=13 LR=0.09896 Avg Training loss=0.6064 Batch Loss=0.7123 Batch_id=390, Acc=78.94: 100%|██████████| 391/391 [00:06<00:00, 64.84it/s]\n"
     ]
    },
    {
     "name": "stdout",
     "output_type": "stream",
     "text": [
      "\n",
      "Test set: Average loss: 0.5698, Accuracy: 81.06%\n",
      "\n",
      "EPOCH: 14\n"
     ]
    },
    {
     "name": "stderr",
     "output_type": "stream",
     "text": [
      "Epoch=14 LR=0.10000 Avg Training loss=0.5932 Batch Loss=0.4842 Batch_id=390, Acc=79.37: 100%|██████████| 391/391 [00:06<00:00, 63.72it/s]\n"
     ]
    },
    {
     "name": "stdout",
     "output_type": "stream",
     "text": [
      "\n",
      "Test set: Average loss: 0.5937, Accuracy: 79.56%\n",
      "\n",
      "EPOCH: 15\n"
     ]
    },
    {
     "name": "stderr",
     "output_type": "stream",
     "text": [
      "Epoch=15 LR=0.09980 Avg Training loss=0.5853 Batch Loss=0.4577 Batch_id=390, Acc=79.72: 100%|██████████| 391/391 [00:06<00:00, 64.18it/s]\n"
     ]
    },
    {
     "name": "stdout",
     "output_type": "stream",
     "text": [
      "\n",
      "Test set: Average loss: 0.5712, Accuracy: 80.38%\n",
      "\n",
      "EPOCH: 16\n"
     ]
    },
    {
     "name": "stderr",
     "output_type": "stream",
     "text": [
      "Epoch=16 LR=0.09919 Avg Training loss=0.5598 Batch Loss=0.4414 Batch_id=390, Acc=80.57: 100%|██████████| 391/391 [00:06<00:00, 63.76it/s]\n"
     ]
    },
    {
     "name": "stdout",
     "output_type": "stream",
     "text": [
      "\n",
      "Test set: Average loss: 0.5503, Accuracy: 81.11%\n",
      "\n",
      "EPOCH: 17\n"
     ]
    },
    {
     "name": "stderr",
     "output_type": "stream",
     "text": [
      "Epoch=17 LR=0.09820 Avg Training loss=0.5532 Batch Loss=0.6390 Batch_id=390, Acc=80.76: 100%|██████████| 391/391 [00:06<00:00, 64.88it/s]\n"
     ]
    },
    {
     "name": "stdout",
     "output_type": "stream",
     "text": [
      "\n",
      "Test set: Average loss: 0.5144, Accuracy: 82.89%\n",
      "\n",
      "EPOCH: 18\n"
     ]
    },
    {
     "name": "stderr",
     "output_type": "stream",
     "text": [
      "Epoch=18 LR=0.09681 Avg Training loss=0.5372 Batch Loss=0.4700 Batch_id=390, Acc=81.47: 100%|██████████| 391/391 [00:06<00:00, 64.46it/s]\n"
     ]
    },
    {
     "name": "stdout",
     "output_type": "stream",
     "text": [
      "\n",
      "Test set: Average loss: 0.5008, Accuracy: 82.64%\n",
      "\n",
      "EPOCH: 19\n"
     ]
    },
    {
     "name": "stderr",
     "output_type": "stream",
     "text": [
      "Epoch=19 LR=0.09504 Avg Training loss=0.5280 Batch Loss=0.5759 Batch_id=390, Acc=81.67: 100%|██████████| 391/391 [00:06<00:00, 64.49it/s]\n"
     ]
    },
    {
     "name": "stdout",
     "output_type": "stream",
     "text": [
      "\n",
      "Test set: Average loss: 0.5135, Accuracy: 82.36%\n",
      "\n",
      "EPOCH: 20\n"
     ]
    },
    {
     "name": "stderr",
     "output_type": "stream",
     "text": [
      "Epoch=20 LR=0.09292 Avg Training loss=0.5154 Batch Loss=0.3332 Batch_id=390, Acc=82.14: 100%|██████████| 391/391 [00:06<00:00, 62.97it/s]\n"
     ]
    },
    {
     "name": "stdout",
     "output_type": "stream",
     "text": [
      "\n",
      "Test set: Average loss: 0.5027, Accuracy: 83.09%\n",
      "\n",
      "EPOCH: 21\n"
     ]
    },
    {
     "name": "stderr",
     "output_type": "stream",
     "text": [
      "Epoch=21 LR=0.09044 Avg Training loss=0.5120 Batch Loss=0.5710 Batch_id=390, Acc=82.27: 100%|██████████| 391/391 [00:06<00:00, 63.44it/s]\n"
     ]
    },
    {
     "name": "stdout",
     "output_type": "stream",
     "text": [
      "\n",
      "Test set: Average loss: 0.5554, Accuracy: 81.03%\n",
      "\n",
      "EPOCH: 22\n"
     ]
    },
    {
     "name": "stderr",
     "output_type": "stream",
     "text": [
      "Epoch=22 LR=0.08765 Avg Training loss=0.4979 Batch Loss=0.5436 Batch_id=390, Acc=82.74: 100%|██████████| 391/391 [00:06<00:00, 63.92it/s]\n"
     ]
    },
    {
     "name": "stdout",
     "output_type": "stream",
     "text": [
      "\n",
      "Test set: Average loss: 0.4968, Accuracy: 83.37%\n",
      "\n",
      "EPOCH: 23\n"
     ]
    },
    {
     "name": "stderr",
     "output_type": "stream",
     "text": [
      "Epoch=23 LR=0.08454 Avg Training loss=0.4874 Batch Loss=0.6068 Batch_id=390, Acc=83.03: 100%|██████████| 391/391 [00:06<00:00, 62.14it/s]\n"
     ]
    },
    {
     "name": "stdout",
     "output_type": "stream",
     "text": [
      "\n",
      "Test set: Average loss: 0.5462, Accuracy: 81.43%\n",
      "\n",
      "EPOCH: 24\n"
     ]
    },
    {
     "name": "stderr",
     "output_type": "stream",
     "text": [
      "Epoch=24 LR=0.08117 Avg Training loss=0.4771 Batch Loss=0.4615 Batch_id=390, Acc=83.57: 100%|██████████| 391/391 [00:06<00:00, 62.65it/s]\n"
     ]
    },
    {
     "name": "stdout",
     "output_type": "stream",
     "text": [
      "\n",
      "Test set: Average loss: 0.4810, Accuracy: 83.88%\n",
      "\n",
      "EPOCH: 25\n"
     ]
    },
    {
     "name": "stderr",
     "output_type": "stream",
     "text": [
      "Epoch=25 LR=0.07754 Avg Training loss=0.4748 Batch Loss=0.2808 Batch_id=390, Acc=83.54: 100%|██████████| 391/391 [00:06<00:00, 63.09it/s]\n"
     ]
    },
    {
     "name": "stdout",
     "output_type": "stream",
     "text": [
      "\n",
      "Test set: Average loss: 0.4684, Accuracy: 84.09%\n",
      "\n",
      "EPOCH: 26\n"
     ]
    },
    {
     "name": "stderr",
     "output_type": "stream",
     "text": [
      "Epoch=26 LR=0.07368 Avg Training loss=0.4608 Batch Loss=0.4417 Batch_id=390, Acc=84.08: 100%|██████████| 391/391 [00:06<00:00, 62.48it/s]\n"
     ]
    },
    {
     "name": "stdout",
     "output_type": "stream",
     "text": [
      "\n",
      "Test set: Average loss: 0.4698, Accuracy: 83.67%\n",
      "\n",
      "EPOCH: 27\n"
     ]
    },
    {
     "name": "stderr",
     "output_type": "stream",
     "text": [
      "Epoch=27 LR=0.06964 Avg Training loss=0.4540 Batch Loss=0.5125 Batch_id=390, Acc=84.20: 100%|██████████| 391/391 [00:06<00:00, 62.60it/s]\n"
     ]
    },
    {
     "name": "stdout",
     "output_type": "stream",
     "text": [
      "\n",
      "Test set: Average loss: 0.4475, Accuracy: 84.93%\n",
      "\n",
      "EPOCH: 28\n"
     ]
    },
    {
     "name": "stderr",
     "output_type": "stream",
     "text": [
      "Epoch=28 LR=0.06544 Avg Training loss=0.4457 Batch Loss=0.5731 Batch_id=390, Acc=84.44: 100%|██████████| 391/391 [00:06<00:00, 62.96it/s]\n"
     ]
    },
    {
     "name": "stdout",
     "output_type": "stream",
     "text": [
      "\n",
      "Test set: Average loss: 0.4519, Accuracy: 84.86%\n",
      "\n",
      "EPOCH: 29\n"
     ]
    },
    {
     "name": "stderr",
     "output_type": "stream",
     "text": [
      "Epoch=29 LR=0.06112 Avg Training loss=0.4448 Batch Loss=0.4000 Batch_id=390, Acc=84.55: 100%|██████████| 391/391 [00:06<00:00, 62.73it/s]\n"
     ]
    },
    {
     "name": "stdout",
     "output_type": "stream",
     "text": [
      "\n",
      "Test set: Average loss: 0.4368, Accuracy: 84.91%\n",
      "\n",
      "EPOCH: 30\n"
     ]
    },
    {
     "name": "stderr",
     "output_type": "stream",
     "text": [
      "Epoch=30 LR=0.05670 Avg Training loss=0.4283 Batch Loss=0.4754 Batch_id=390, Acc=85.12: 100%|██████████| 391/391 [00:06<00:00, 62.20it/s]\n"
     ]
    },
    {
     "name": "stdout",
     "output_type": "stream",
     "text": [
      "\n",
      "Test set: Average loss: 0.4381, Accuracy: 85.24%\n",
      "\n",
      "EPOCH: 31\n"
     ]
    },
    {
     "name": "stderr",
     "output_type": "stream",
     "text": [
      "Epoch=31 LR=0.05223 Avg Training loss=0.4228 Batch Loss=0.3813 Batch_id=390, Acc=85.27: 100%|██████████| 391/391 [00:06<00:00, 62.19it/s]\n"
     ]
    },
    {
     "name": "stdout",
     "output_type": "stream",
     "text": [
      "\n",
      "Test set: Average loss: 0.4361, Accuracy: 85.07%\n",
      "\n",
      "EPOCH: 32\n"
     ]
    },
    {
     "name": "stderr",
     "output_type": "stream",
     "text": [
      "Epoch=32 LR=0.04775 Avg Training loss=0.4071 Batch Loss=0.3535 Batch_id=390, Acc=85.78: 100%|██████████| 391/391 [00:06<00:00, 62.25it/s]\n"
     ]
    },
    {
     "name": "stdout",
     "output_type": "stream",
     "text": [
      "\n",
      "Test set: Average loss: 0.4127, Accuracy: 85.83%\n",
      "\n",
      "EPOCH: 33\n"
     ]
    },
    {
     "name": "stderr",
     "output_type": "stream",
     "text": [
      "Epoch=33 LR=0.04328 Avg Training loss=0.4013 Batch Loss=0.3336 Batch_id=390, Acc=85.91: 100%|██████████| 391/391 [00:06<00:00, 62.79it/s]\n"
     ]
    },
    {
     "name": "stdout",
     "output_type": "stream",
     "text": [
      "\n",
      "Test set: Average loss: 0.4376, Accuracy: 84.97%\n",
      "\n",
      "EPOCH: 34\n"
     ]
    },
    {
     "name": "stderr",
     "output_type": "stream",
     "text": [
      "Epoch=34 LR=0.03886 Avg Training loss=0.3918 Batch Loss=0.3553 Batch_id=390, Acc=86.29: 100%|██████████| 391/391 [00:06<00:00, 62.99it/s]\n"
     ]
    },
    {
     "name": "stdout",
     "output_type": "stream",
     "text": [
      "\n",
      "Test set: Average loss: 0.4089, Accuracy: 86.29%\n",
      "\n"
     ]
    }
   ],
   "source": [
    "model = Net().to(device)\n",
    "optimizer = optim.SGD(model.parameters(), lr=0.05, momentum=0.9)\n",
    "scheduler = StepLR(optimizer, step_size=6, gamma=0.1)\n",
    "criterion = F.nll_loss\n",
    "#criterion = nn.CrossEntropyLoss()\n",
    "\n",
    "# Use OneCycleLR scheduler\n",
    "scheduler = torch.optim.lr_scheduler.OneCycleLR(\n",
    "    optimizer,\n",
    "    max_lr=0.1,\n",
    "    epochs=50,\n",
    "    steps_per_epoch=len(train_loader)\n",
    ")\n",
    "\n",
    "train_losses = []\n",
    "test_losses = []\n",
    "train_acc = []\n",
    "test_acc = []\n",
    "lrs = []\n",
    "\n",
    "EPOCHS = 35\n",
    "for epoch in range(EPOCHS):\n",
    "    print(\"EPOCH:\", epoch)\n",
    "    train_loss_avg, train_acc_avg = train(model, device, train_loader, optimizer, criterion, scheduler, epoch)\n",
    "    test_loss_avg, test_acc_avg, misclass_data = test(model, device, test_loader, criterion)\n",
    "    train_losses.append(train_loss_avg)\n",
    "    train_acc.append(train_acc_avg)\n",
    "    test_losses.append(test_loss_avg)\n",
    "    test_acc.append(test_acc_avg)\n",
    "    lrs.append(scheduler.get_last_lr()[0])  # store last LR of this epoch\n"
   ]
  },
  {
   "cell_type": "code",
   "execution_count": 26,
   "metadata": {},
   "outputs": [
    {
     "data": {
      "image/png": "[encoded data removed]",
      "text/plain": [
       "<Figure size 1500x1500 with 6 Axes>"
      ]
     },
     "metadata": {},
     "output_type": "display_data"
    }
   ],
   "source": [
    "import matplotlib.pyplot as plt\n",
    "\n",
    "fig, axs = plt.subplots(3, 2, figsize=(15,15))\n",
    "\n",
    "# Training Loss\n",
    "axs[0, 0].plot(train_losses)\n",
    "axs[0, 0].set_title(\"Training Loss\")\n",
    "\n",
    "# Training Accuracy\n",
    "axs[1, 0].plot(train_acc)\n",
    "axs[1, 0].set_title(\"Training Accuracy\")\n",
    "\n",
    "# Test Loss\n",
    "axs[0, 1].plot(test_losses)\n",
    "axs[0, 1].set_title(\"Test Loss\")\n",
    "\n",
    "# Test Accuracy\n",
    "axs[1, 1].plot(test_acc)\n",
    "axs[1, 1].set_title(\"Test Accuracy\")\n",
    "\n",
    "# Learning Rate\n",
    "axs[2, 0].plot(lrs)\n",
    "axs[2, 0].set_title(\"Learning Rate\")\n",
    "\n",
    "# Hide empty subplot if unused\n",
    "axs[2, 1].axis(\"off\")\n",
    "\n",
    "plt.tight_layout()\n",
    "plt.show()"
   ]
  }
 ],
 "metadata": {
  "kernelspec": {
   "display_name": "pytorch-gpu",
   "language": "python",
   "name": "python3"
  },
  "language_info": {
   "codemirror_mode": {
    "name": "ipython",
    "version": 3
   },
   "file_extension": ".py",
   "mimetype": "text/x-python",
   "name": "python",
   "nbconvert_exporter": "python",
   "pygments_lexer": "ipython3",
   "version": "3.9.21"
  }
 },
 "nbformat": 4,
 "nbformat_minor": 2
}
